{
  "nbformat": 4,
  "nbformat_minor": 0,
  "metadata": {
    "colab": {
      "name": "ProjectFinal.ipynb",
      "provenance": []
    },
    "kernelspec": {
      "name": "python3",
      "display_name": "Python 3"
    },
    "language_info": {
      "name": "python"
    }
  },
  "cells": [
    {
      "cell_type": "markdown",
      "source": [
        "# **Charting and Predicting NFL Performance Based on 2021 Statistics**\n",
        "**By Alex Sherwin**"
      ],
      "metadata": {
        "id": "BsIOTr0oIRAC"
      }
    },
    {
      "cell_type": "markdown",
      "source": [
        "Football is the most popular spectator sport in the United States, dominating just about every metric. The National Football League (NFL) [leads all professional sports leagues in revenue](https://en.wikipedia.org/wiki/List_of_professional_sports_leagues_by_revenue), not only within the United States, but worldwide. This is only set to increase, as new, lucrative TV deals are set to kick in soon, further raising the total revenue astronomically. Unsurprisingly, the NFL also leads in [television ratings and fan attendance](https://en.wikipedia.org/wiki/Major_professional_sports_leagues_in_the_United_States_and_Canada#Television_exposure)."
      ],
      "metadata": {
        "id": "xfgfHDnNJ5eu"
      }
    },
    {
      "cell_type": "markdown",
      "source": [
        "In a multi-billion dollar industry like professional football, front office jobs are earned and lost over the evaluation of player talent. Scouts and general managers command multi-million dollar salaries to accurately identify and evaluate players for their own team, both coming out college and from other teams in free agency and trades. As there are numerous factors contributing to a player's success, it's important for evaluators to recognize if a player over or underperformed their talent level due to extraneous factors, and project that accordingly. The general managers and scouts who consistently find underrated players tend to put their teams in position to contend for the Super Bowl. Additionally, publications such as [Pro Football Focus](https://www.pff.com/) have made their money evaluating players quantitatively and qualitatively for fan consumption."
      ],
      "metadata": {
        "id": "z2HVi4v6REk_"
      }
    },
    {
      "cell_type": "markdown",
      "source": [
        "For these reasons, I have chosen to look at and statistically model 2021 NFL player statistics. As an interested fan, I am interested to evaluate player and team performance in context so that I know how my favorite team (the Washington Commanders), among others, are doing."
      ],
      "metadata": {
        "id": "PVbPbf9OUZ7t"
      }
    },
    {
      "cell_type": "markdown",
      "source": [
        "# Data Collection"
      ],
      "metadata": {
        "id": "-6yJO3UWWvpK"
      }
    },
    {
      "cell_type": "markdown",
      "source": [
        "The dataset is scraped from [Pro Football Reference](https://www.pro-football-reference.com/). The website conveniently allows for data to be exported to the CSV format, which we will open with Pandas."
      ],
      "metadata": {
        "id": "aS-eHwtoW215"
      }
    },
    {
      "cell_type": "markdown",
      "source": [
        "**Loading the Data**"
      ],
      "metadata": {
        "id": "nAsKDJoOYMhi"
      }
    },
    {
      "cell_type": "markdown",
      "source": [
        "Below, we load a CSV that contains receiving statistics by player, sorted by most total receiving yards. The table below shows the top 25 in receiving yards, led by [triple crown winner Cooper Kupp of the Los Angeles Rams](https://www.nfl.com/news/rams-wr-cooper-kupp-captures-receiving-triple-crown)."
      ],
      "metadata": {
        "id": "5bzZhhUzYO6q"
      }
    },
    {
      "cell_type": "code",
      "source": [
        "import pandas as pd\n",
        "df_rec = pd.read_csv(\"https://raw.githubusercontent.com/aqsh/aqsh.github.io/main/2021rec.csv\")\n",
        "df_rec.head(25)"
      ],
      "metadata": {
        "colab": {
          "base_uri": "https://localhost:8080/",
          "height": 833
        },
        "id": "J1nne_V9Ikl2",
        "outputId": "9d5741a2-a888-425c-b771-c86dcb73b582"
      },
      "execution_count": 1,
      "outputs": [
        {
          "output_type": "execute_result",
          "data": {
            "text/plain": [
              "    Rk                        Player   Tm  Age Pos   G  GS  Tgt  Rec  Ctch%  \\\n",
              "0    1        Cooper Kupp*+\\KuppCo00  LAR   28  WR  17  17  191  145  0.759   \n",
              "1    2    Justin Jefferson*\\JeffJu00  MIN   22  WR  17  17  167  108  0.647   \n",
              "2    3      Davante Adams*+\\AdamDa01  GNB   29  WR  16  16  169  123  0.728   \n",
              "3    4       Ja'Marr Chase*\\ChasJa00  CIN   21  WR  17  17  128   81  0.633   \n",
              "4    5       Deebo Samuel*+\\SamuDe00  SFO   25  WR  16  15  121   77  0.636   \n",
              "5    6       Mark Andrews*+\\AndrMa00  BAL   26  te  17   9  153  107  0.699   \n",
              "6    7         Tyreek Hill*\\HillTy00  KAN   27  WR  17  16  159  111  0.698   \n",
              "7    8        Stefon Diggs*\\DiggSt00  BUF   28  WR  17  17  164  103  0.628   \n",
              "8    9        Tyler Lockett\\LockTy00  SEA   29  WR  16  16  107   73  0.682   \n",
              "9   10     Diontae Johnson*\\JohnDi01  PIT   25  WR  16  14  169  107  0.633   \n",
              "10  11           D.J. Moore\\MoorD.00  CAR   24  WR  17  17  163   93  0.571   \n",
              "11  12        Mike Williams\\WillMi07  LAC   27  WR  16  14  129   76  0.589   \n",
              "12  13        Keenan Allen*\\AlleKe00  LAC   29  WR  16  16  157  106  0.675   \n",
              "13  14        Travis Kelce*\\KelcTr00  KAN   32  TE  16  16  134   92  0.687   \n",
              "14  15         Chris Godwin\\GodwCh00  TAM   25  WR  14  14  127   98  0.772   \n",
              "15  16         CeeDee Lamb*\\LambCe00  DAL   22  WR  16  13  120   79  0.658   \n",
              "16  17          Tee Higgins\\HiggTe00  CIN   22  WR  14  14  110   74  0.673   \n",
              "17  18  Michael Pittman Jr.\\PittMi01  IND   24  WR  17  17  129   88  0.682   \n",
              "18  19       Darnell Mooney\\MoonDa00  CHI   24  WR  17  14  140   81  0.579   \n",
              "19  20       Terry McLaurin\\McLaTe00  WAS   26  WR  17  17  130   77  0.592   \n",
              "20  21      Hunter Renfrow*\\RenfHu00  LVR   26  wr  17   9  128  103  0.805   \n",
              "21  22        Brandin Cooks\\CookBr00  HOU   28  WR  16  16  134   90  0.672   \n",
              "22  23          Mike Evans*\\EvanMi00  TAM   28  WR  16  16  114   74  0.649   \n",
              "23  24          Kyle Pitts*\\PittKy00  ATL   21  TE  17  15  110   68  0.618   \n",
              "24  25        Jaylen Waddle\\WaddJa00  MIA   23  WR  16  16  140  104  0.743   \n",
              "\n",
              "    Yds?   Y/R  TD  1D  Lng  Y/Tgt  R/G    Y/G  Fmb  \n",
              "0   1947  13.4  16  89   59   10.2  8.5  114.5    0  \n",
              "1   1616  15.0  10  75   56    9.7  6.4   95.1    1  \n",
              "2   1553  12.6  11  84   59    9.2  7.7   97.1    0  \n",
              "3   1455  18.0  13  56   82   11.4  4.8   85.6    2  \n",
              "4   1405  18.2   6  51   83   11.6  4.8   87.8    4  \n",
              "5   1361  12.7   9  75   43    8.9  6.3   80.1    1  \n",
              "6   1239  11.2   9  75   75    7.8  6.5   72.9    2  \n",
              "7   1225  11.9  10  66   61    7.5  6.1   72.1    1  \n",
              "8   1175  16.1   8  41   69   11.0  4.6   73.4    0  \n",
              "9   1161  10.9   8  59   50    6.9  6.7   72.6    2  \n",
              "10  1157  12.4   4  60   64    7.1  5.5   68.1    1  \n",
              "11  1146  15.1   9  51   72    8.9  4.8   71.6    0  \n",
              "12  1138  10.7   6  66   42    7.2  6.6   71.1    1  \n",
              "13  1125  12.2   9  63   69    8.4  5.8   70.3    1  \n",
              "14  1103  11.3   5  55   44    8.7  7.0   78.8    2  \n",
              "15  1102  13.9   6  54   49    9.2  4.9   68.9    0  \n",
              "16  1091  14.7   6  53   54    9.9  5.3   77.9    1  \n",
              "17  1082  12.3   6  54   57    8.4  5.2   63.6    1  \n",
              "18  1055  13.0   4  49   64    7.5  4.8   62.1    0  \n",
              "19  1053  13.7   5  47   46    8.1  4.5   61.9    0  \n",
              "20  1038  10.1   9  51   54    8.1  6.1   61.1    5  \n",
              "21  1037  11.5   6  45   52    7.7  5.6   64.8    0  \n",
              "22  1035  14.0  14  56   46    9.1  4.6   64.7    0  \n",
              "23  1026  15.1   1  43   61    9.3  4.0   60.4    0  \n",
              "24  1015   9.8   6  59   57    7.3  6.5   63.4    2  "
            ],
            "text/html": [
              "\n",
              "  <div id=\"df-dfb61767-8ae1-4b88-9893-9c99827f7efa\">\n",
              "    <div class=\"colab-df-container\">\n",
              "      <div>\n",
              "<style scoped>\n",
              "    .dataframe tbody tr th:only-of-type {\n",
              "        vertical-align: middle;\n",
              "    }\n",
              "\n",
              "    .dataframe tbody tr th {\n",
              "        vertical-align: top;\n",
              "    }\n",
              "\n",
              "    .dataframe thead th {\n",
              "        text-align: right;\n",
              "    }\n",
              "</style>\n",
              "<table border=\"1\" class=\"dataframe\">\n",
              "  <thead>\n",
              "    <tr style=\"text-align: right;\">\n",
              "      <th></th>\n",
              "      <th>Rk</th>\n",
              "      <th>Player</th>\n",
              "      <th>Tm</th>\n",
              "      <th>Age</th>\n",
              "      <th>Pos</th>\n",
              "      <th>G</th>\n",
              "      <th>GS</th>\n",
              "      <th>Tgt</th>\n",
              "      <th>Rec</th>\n",
              "      <th>Ctch%</th>\n",
              "      <th>Yds?</th>\n",
              "      <th>Y/R</th>\n",
              "      <th>TD</th>\n",
              "      <th>1D</th>\n",
              "      <th>Lng</th>\n",
              "      <th>Y/Tgt</th>\n",
              "      <th>R/G</th>\n",
              "      <th>Y/G</th>\n",
              "      <th>Fmb</th>\n",
              "    </tr>\n",
              "  </thead>\n",
              "  <tbody>\n",
              "    <tr>\n",
              "      <th>0</th>\n",
              "      <td>1</td>\n",
              "      <td>Cooper Kupp*+\\KuppCo00</td>\n",
              "      <td>LAR</td>\n",
              "      <td>28</td>\n",
              "      <td>WR</td>\n",
              "      <td>17</td>\n",
              "      <td>17</td>\n",
              "      <td>191</td>\n",
              "      <td>145</td>\n",
              "      <td>0.759</td>\n",
              "      <td>1947</td>\n",
              "      <td>13.4</td>\n",
              "      <td>16</td>\n",
              "      <td>89</td>\n",
              "      <td>59</td>\n",
              "      <td>10.2</td>\n",
              "      <td>8.5</td>\n",
              "      <td>114.5</td>\n",
              "      <td>0</td>\n",
              "    </tr>\n",
              "    <tr>\n",
              "      <th>1</th>\n",
              "      <td>2</td>\n",
              "      <td>Justin Jefferson*\\JeffJu00</td>\n",
              "      <td>MIN</td>\n",
              "      <td>22</td>\n",
              "      <td>WR</td>\n",
              "      <td>17</td>\n",
              "      <td>17</td>\n",
              "      <td>167</td>\n",
              "      <td>108</td>\n",
              "      <td>0.647</td>\n",
              "      <td>1616</td>\n",
              "      <td>15.0</td>\n",
              "      <td>10</td>\n",
              "      <td>75</td>\n",
              "      <td>56</td>\n",
              "      <td>9.7</td>\n",
              "      <td>6.4</td>\n",
              "      <td>95.1</td>\n",
              "      <td>1</td>\n",
              "    </tr>\n",
              "    <tr>\n",
              "      <th>2</th>\n",
              "      <td>3</td>\n",
              "      <td>Davante Adams*+\\AdamDa01</td>\n",
              "      <td>GNB</td>\n",
              "      <td>29</td>\n",
              "      <td>WR</td>\n",
              "      <td>16</td>\n",
              "      <td>16</td>\n",
              "      <td>169</td>\n",
              "      <td>123</td>\n",
              "      <td>0.728</td>\n",
              "      <td>1553</td>\n",
              "      <td>12.6</td>\n",
              "      <td>11</td>\n",
              "      <td>84</td>\n",
              "      <td>59</td>\n",
              "      <td>9.2</td>\n",
              "      <td>7.7</td>\n",
              "      <td>97.1</td>\n",
              "      <td>0</td>\n",
              "    </tr>\n",
              "    <tr>\n",
              "      <th>3</th>\n",
              "      <td>4</td>\n",
              "      <td>Ja'Marr Chase*\\ChasJa00</td>\n",
              "      <td>CIN</td>\n",
              "      <td>21</td>\n",
              "      <td>WR</td>\n",
              "      <td>17</td>\n",
              "      <td>17</td>\n",
              "      <td>128</td>\n",
              "      <td>81</td>\n",
              "      <td>0.633</td>\n",
              "      <td>1455</td>\n",
              "      <td>18.0</td>\n",
              "      <td>13</td>\n",
              "      <td>56</td>\n",
              "      <td>82</td>\n",
              "      <td>11.4</td>\n",
              "      <td>4.8</td>\n",
              "      <td>85.6</td>\n",
              "      <td>2</td>\n",
              "    </tr>\n",
              "    <tr>\n",
              "      <th>4</th>\n",
              "      <td>5</td>\n",
              "      <td>Deebo Samuel*+\\SamuDe00</td>\n",
              "      <td>SFO</td>\n",
              "      <td>25</td>\n",
              "      <td>WR</td>\n",
              "      <td>16</td>\n",
              "      <td>15</td>\n",
              "      <td>121</td>\n",
              "      <td>77</td>\n",
              "      <td>0.636</td>\n",
              "      <td>1405</td>\n",
              "      <td>18.2</td>\n",
              "      <td>6</td>\n",
              "      <td>51</td>\n",
              "      <td>83</td>\n",
              "      <td>11.6</td>\n",
              "      <td>4.8</td>\n",
              "      <td>87.8</td>\n",
              "      <td>4</td>\n",
              "    </tr>\n",
              "    <tr>\n",
              "      <th>5</th>\n",
              "      <td>6</td>\n",
              "      <td>Mark Andrews*+\\AndrMa00</td>\n",
              "      <td>BAL</td>\n",
              "      <td>26</td>\n",
              "      <td>te</td>\n",
              "      <td>17</td>\n",
              "      <td>9</td>\n",
              "      <td>153</td>\n",
              "      <td>107</td>\n",
              "      <td>0.699</td>\n",
              "      <td>1361</td>\n",
              "      <td>12.7</td>\n",
              "      <td>9</td>\n",
              "      <td>75</td>\n",
              "      <td>43</td>\n",
              "      <td>8.9</td>\n",
              "      <td>6.3</td>\n",
              "      <td>80.1</td>\n",
              "      <td>1</td>\n",
              "    </tr>\n",
              "    <tr>\n",
              "      <th>6</th>\n",
              "      <td>7</td>\n",
              "      <td>Tyreek Hill*\\HillTy00</td>\n",
              "      <td>KAN</td>\n",
              "      <td>27</td>\n",
              "      <td>WR</td>\n",
              "      <td>17</td>\n",
              "      <td>16</td>\n",
              "      <td>159</td>\n",
              "      <td>111</td>\n",
              "      <td>0.698</td>\n",
              "      <td>1239</td>\n",
              "      <td>11.2</td>\n",
              "      <td>9</td>\n",
              "      <td>75</td>\n",
              "      <td>75</td>\n",
              "      <td>7.8</td>\n",
              "      <td>6.5</td>\n",
              "      <td>72.9</td>\n",
              "      <td>2</td>\n",
              "    </tr>\n",
              "    <tr>\n",
              "      <th>7</th>\n",
              "      <td>8</td>\n",
              "      <td>Stefon Diggs*\\DiggSt00</td>\n",
              "      <td>BUF</td>\n",
              "      <td>28</td>\n",
              "      <td>WR</td>\n",
              "      <td>17</td>\n",
              "      <td>17</td>\n",
              "      <td>164</td>\n",
              "      <td>103</td>\n",
              "      <td>0.628</td>\n",
              "      <td>1225</td>\n",
              "      <td>11.9</td>\n",
              "      <td>10</td>\n",
              "      <td>66</td>\n",
              "      <td>61</td>\n",
              "      <td>7.5</td>\n",
              "      <td>6.1</td>\n",
              "      <td>72.1</td>\n",
              "      <td>1</td>\n",
              "    </tr>\n",
              "    <tr>\n",
              "      <th>8</th>\n",
              "      <td>9</td>\n",
              "      <td>Tyler Lockett\\LockTy00</td>\n",
              "      <td>SEA</td>\n",
              "      <td>29</td>\n",
              "      <td>WR</td>\n",
              "      <td>16</td>\n",
              "      <td>16</td>\n",
              "      <td>107</td>\n",
              "      <td>73</td>\n",
              "      <td>0.682</td>\n",
              "      <td>1175</td>\n",
              "      <td>16.1</td>\n",
              "      <td>8</td>\n",
              "      <td>41</td>\n",
              "      <td>69</td>\n",
              "      <td>11.0</td>\n",
              "      <td>4.6</td>\n",
              "      <td>73.4</td>\n",
              "      <td>0</td>\n",
              "    </tr>\n",
              "    <tr>\n",
              "      <th>9</th>\n",
              "      <td>10</td>\n",
              "      <td>Diontae Johnson*\\JohnDi01</td>\n",
              "      <td>PIT</td>\n",
              "      <td>25</td>\n",
              "      <td>WR</td>\n",
              "      <td>16</td>\n",
              "      <td>14</td>\n",
              "      <td>169</td>\n",
              "      <td>107</td>\n",
              "      <td>0.633</td>\n",
              "      <td>1161</td>\n",
              "      <td>10.9</td>\n",
              "      <td>8</td>\n",
              "      <td>59</td>\n",
              "      <td>50</td>\n",
              "      <td>6.9</td>\n",
              "      <td>6.7</td>\n",
              "      <td>72.6</td>\n",
              "      <td>2</td>\n",
              "    </tr>\n",
              "    <tr>\n",
              "      <th>10</th>\n",
              "      <td>11</td>\n",
              "      <td>D.J. Moore\\MoorD.00</td>\n",
              "      <td>CAR</td>\n",
              "      <td>24</td>\n",
              "      <td>WR</td>\n",
              "      <td>17</td>\n",
              "      <td>17</td>\n",
              "      <td>163</td>\n",
              "      <td>93</td>\n",
              "      <td>0.571</td>\n",
              "      <td>1157</td>\n",
              "      <td>12.4</td>\n",
              "      <td>4</td>\n",
              "      <td>60</td>\n",
              "      <td>64</td>\n",
              "      <td>7.1</td>\n",
              "      <td>5.5</td>\n",
              "      <td>68.1</td>\n",
              "      <td>1</td>\n",
              "    </tr>\n",
              "    <tr>\n",
              "      <th>11</th>\n",
              "      <td>12</td>\n",
              "      <td>Mike Williams\\WillMi07</td>\n",
              "      <td>LAC</td>\n",
              "      <td>27</td>\n",
              "      <td>WR</td>\n",
              "      <td>16</td>\n",
              "      <td>14</td>\n",
              "      <td>129</td>\n",
              "      <td>76</td>\n",
              "      <td>0.589</td>\n",
              "      <td>1146</td>\n",
              "      <td>15.1</td>\n",
              "      <td>9</td>\n",
              "      <td>51</td>\n",
              "      <td>72</td>\n",
              "      <td>8.9</td>\n",
              "      <td>4.8</td>\n",
              "      <td>71.6</td>\n",
              "      <td>0</td>\n",
              "    </tr>\n",
              "    <tr>\n",
              "      <th>12</th>\n",
              "      <td>13</td>\n",
              "      <td>Keenan Allen*\\AlleKe00</td>\n",
              "      <td>LAC</td>\n",
              "      <td>29</td>\n",
              "      <td>WR</td>\n",
              "      <td>16</td>\n",
              "      <td>16</td>\n",
              "      <td>157</td>\n",
              "      <td>106</td>\n",
              "      <td>0.675</td>\n",
              "      <td>1138</td>\n",
              "      <td>10.7</td>\n",
              "      <td>6</td>\n",
              "      <td>66</td>\n",
              "      <td>42</td>\n",
              "      <td>7.2</td>\n",
              "      <td>6.6</td>\n",
              "      <td>71.1</td>\n",
              "      <td>1</td>\n",
              "    </tr>\n",
              "    <tr>\n",
              "      <th>13</th>\n",
              "      <td>14</td>\n",
              "      <td>Travis Kelce*\\KelcTr00</td>\n",
              "      <td>KAN</td>\n",
              "      <td>32</td>\n",
              "      <td>TE</td>\n",
              "      <td>16</td>\n",
              "      <td>16</td>\n",
              "      <td>134</td>\n",
              "      <td>92</td>\n",
              "      <td>0.687</td>\n",
              "      <td>1125</td>\n",
              "      <td>12.2</td>\n",
              "      <td>9</td>\n",
              "      <td>63</td>\n",
              "      <td>69</td>\n",
              "      <td>8.4</td>\n",
              "      <td>5.8</td>\n",
              "      <td>70.3</td>\n",
              "      <td>1</td>\n",
              "    </tr>\n",
              "    <tr>\n",
              "      <th>14</th>\n",
              "      <td>15</td>\n",
              "      <td>Chris Godwin\\GodwCh00</td>\n",
              "      <td>TAM</td>\n",
              "      <td>25</td>\n",
              "      <td>WR</td>\n",
              "      <td>14</td>\n",
              "      <td>14</td>\n",
              "      <td>127</td>\n",
              "      <td>98</td>\n",
              "      <td>0.772</td>\n",
              "      <td>1103</td>\n",
              "      <td>11.3</td>\n",
              "      <td>5</td>\n",
              "      <td>55</td>\n",
              "      <td>44</td>\n",
              "      <td>8.7</td>\n",
              "      <td>7.0</td>\n",
              "      <td>78.8</td>\n",
              "      <td>2</td>\n",
              "    </tr>\n",
              "    <tr>\n",
              "      <th>15</th>\n",
              "      <td>16</td>\n",
              "      <td>CeeDee Lamb*\\LambCe00</td>\n",
              "      <td>DAL</td>\n",
              "      <td>22</td>\n",
              "      <td>WR</td>\n",
              "      <td>16</td>\n",
              "      <td>13</td>\n",
              "      <td>120</td>\n",
              "      <td>79</td>\n",
              "      <td>0.658</td>\n",
              "      <td>1102</td>\n",
              "      <td>13.9</td>\n",
              "      <td>6</td>\n",
              "      <td>54</td>\n",
              "      <td>49</td>\n",
              "      <td>9.2</td>\n",
              "      <td>4.9</td>\n",
              "      <td>68.9</td>\n",
              "      <td>0</td>\n",
              "    </tr>\n",
              "    <tr>\n",
              "      <th>16</th>\n",
              "      <td>17</td>\n",
              "      <td>Tee Higgins\\HiggTe00</td>\n",
              "      <td>CIN</td>\n",
              "      <td>22</td>\n",
              "      <td>WR</td>\n",
              "      <td>14</td>\n",
              "      <td>14</td>\n",
              "      <td>110</td>\n",
              "      <td>74</td>\n",
              "      <td>0.673</td>\n",
              "      <td>1091</td>\n",
              "      <td>14.7</td>\n",
              "      <td>6</td>\n",
              "      <td>53</td>\n",
              "      <td>54</td>\n",
              "      <td>9.9</td>\n",
              "      <td>5.3</td>\n",
              "      <td>77.9</td>\n",
              "      <td>1</td>\n",
              "    </tr>\n",
              "    <tr>\n",
              "      <th>17</th>\n",
              "      <td>18</td>\n",
              "      <td>Michael Pittman Jr.\\PittMi01</td>\n",
              "      <td>IND</td>\n",
              "      <td>24</td>\n",
              "      <td>WR</td>\n",
              "      <td>17</td>\n",
              "      <td>17</td>\n",
              "      <td>129</td>\n",
              "      <td>88</td>\n",
              "      <td>0.682</td>\n",
              "      <td>1082</td>\n",
              "      <td>12.3</td>\n",
              "      <td>6</td>\n",
              "      <td>54</td>\n",
              "      <td>57</td>\n",
              "      <td>8.4</td>\n",
              "      <td>5.2</td>\n",
              "      <td>63.6</td>\n",
              "      <td>1</td>\n",
              "    </tr>\n",
              "    <tr>\n",
              "      <th>18</th>\n",
              "      <td>19</td>\n",
              "      <td>Darnell Mooney\\MoonDa00</td>\n",
              "      <td>CHI</td>\n",
              "      <td>24</td>\n",
              "      <td>WR</td>\n",
              "      <td>17</td>\n",
              "      <td>14</td>\n",
              "      <td>140</td>\n",
              "      <td>81</td>\n",
              "      <td>0.579</td>\n",
              "      <td>1055</td>\n",
              "      <td>13.0</td>\n",
              "      <td>4</td>\n",
              "      <td>49</td>\n",
              "      <td>64</td>\n",
              "      <td>7.5</td>\n",
              "      <td>4.8</td>\n",
              "      <td>62.1</td>\n",
              "      <td>0</td>\n",
              "    </tr>\n",
              "    <tr>\n",
              "      <th>19</th>\n",
              "      <td>20</td>\n",
              "      <td>Terry McLaurin\\McLaTe00</td>\n",
              "      <td>WAS</td>\n",
              "      <td>26</td>\n",
              "      <td>WR</td>\n",
              "      <td>17</td>\n",
              "      <td>17</td>\n",
              "      <td>130</td>\n",
              "      <td>77</td>\n",
              "      <td>0.592</td>\n",
              "      <td>1053</td>\n",
              "      <td>13.7</td>\n",
              "      <td>5</td>\n",
              "      <td>47</td>\n",
              "      <td>46</td>\n",
              "      <td>8.1</td>\n",
              "      <td>4.5</td>\n",
              "      <td>61.9</td>\n",
              "      <td>0</td>\n",
              "    </tr>\n",
              "    <tr>\n",
              "      <th>20</th>\n",
              "      <td>21</td>\n",
              "      <td>Hunter Renfrow*\\RenfHu00</td>\n",
              "      <td>LVR</td>\n",
              "      <td>26</td>\n",
              "      <td>wr</td>\n",
              "      <td>17</td>\n",
              "      <td>9</td>\n",
              "      <td>128</td>\n",
              "      <td>103</td>\n",
              "      <td>0.805</td>\n",
              "      <td>1038</td>\n",
              "      <td>10.1</td>\n",
              "      <td>9</td>\n",
              "      <td>51</td>\n",
              "      <td>54</td>\n",
              "      <td>8.1</td>\n",
              "      <td>6.1</td>\n",
              "      <td>61.1</td>\n",
              "      <td>5</td>\n",
              "    </tr>\n",
              "    <tr>\n",
              "      <th>21</th>\n",
              "      <td>22</td>\n",
              "      <td>Brandin Cooks\\CookBr00</td>\n",
              "      <td>HOU</td>\n",
              "      <td>28</td>\n",
              "      <td>WR</td>\n",
              "      <td>16</td>\n",
              "      <td>16</td>\n",
              "      <td>134</td>\n",
              "      <td>90</td>\n",
              "      <td>0.672</td>\n",
              "      <td>1037</td>\n",
              "      <td>11.5</td>\n",
              "      <td>6</td>\n",
              "      <td>45</td>\n",
              "      <td>52</td>\n",
              "      <td>7.7</td>\n",
              "      <td>5.6</td>\n",
              "      <td>64.8</td>\n",
              "      <td>0</td>\n",
              "    </tr>\n",
              "    <tr>\n",
              "      <th>22</th>\n",
              "      <td>23</td>\n",
              "      <td>Mike Evans*\\EvanMi00</td>\n",
              "      <td>TAM</td>\n",
              "      <td>28</td>\n",
              "      <td>WR</td>\n",
              "      <td>16</td>\n",
              "      <td>16</td>\n",
              "      <td>114</td>\n",
              "      <td>74</td>\n",
              "      <td>0.649</td>\n",
              "      <td>1035</td>\n",
              "      <td>14.0</td>\n",
              "      <td>14</td>\n",
              "      <td>56</td>\n",
              "      <td>46</td>\n",
              "      <td>9.1</td>\n",
              "      <td>4.6</td>\n",
              "      <td>64.7</td>\n",
              "      <td>0</td>\n",
              "    </tr>\n",
              "    <tr>\n",
              "      <th>23</th>\n",
              "      <td>24</td>\n",
              "      <td>Kyle Pitts*\\PittKy00</td>\n",
              "      <td>ATL</td>\n",
              "      <td>21</td>\n",
              "      <td>TE</td>\n",
              "      <td>17</td>\n",
              "      <td>15</td>\n",
              "      <td>110</td>\n",
              "      <td>68</td>\n",
              "      <td>0.618</td>\n",
              "      <td>1026</td>\n",
              "      <td>15.1</td>\n",
              "      <td>1</td>\n",
              "      <td>43</td>\n",
              "      <td>61</td>\n",
              "      <td>9.3</td>\n",
              "      <td>4.0</td>\n",
              "      <td>60.4</td>\n",
              "      <td>0</td>\n",
              "    </tr>\n",
              "    <tr>\n",
              "      <th>24</th>\n",
              "      <td>25</td>\n",
              "      <td>Jaylen Waddle\\WaddJa00</td>\n",
              "      <td>MIA</td>\n",
              "      <td>23</td>\n",
              "      <td>WR</td>\n",
              "      <td>16</td>\n",
              "      <td>16</td>\n",
              "      <td>140</td>\n",
              "      <td>104</td>\n",
              "      <td>0.743</td>\n",
              "      <td>1015</td>\n",
              "      <td>9.8</td>\n",
              "      <td>6</td>\n",
              "      <td>59</td>\n",
              "      <td>57</td>\n",
              "      <td>7.3</td>\n",
              "      <td>6.5</td>\n",
              "      <td>63.4</td>\n",
              "      <td>2</td>\n",
              "    </tr>\n",
              "  </tbody>\n",
              "</table>\n",
              "</div>\n",
              "      <button class=\"colab-df-convert\" onclick=\"convertToInteractive('df-dfb61767-8ae1-4b88-9893-9c99827f7efa')\"\n",
              "              title=\"Convert this dataframe to an interactive table.\"\n",
              "              style=\"display:none;\">\n",
              "        \n",
              "  <svg xmlns=\"http://www.w3.org/2000/svg\" height=\"24px\"viewBox=\"0 0 24 24\"\n",
              "       width=\"24px\">\n",
              "    <path d=\"M0 0h24v24H0V0z\" fill=\"none\"/>\n",
              "    <path d=\"M18.56 5.44l.94 2.06.94-2.06 2.06-.94-2.06-.94-.94-2.06-.94 2.06-2.06.94zm-11 1L8.5 8.5l.94-2.06 2.06-.94-2.06-.94L8.5 2.5l-.94 2.06-2.06.94zm10 10l.94 2.06.94-2.06 2.06-.94-2.06-.94-.94-2.06-.94 2.06-2.06.94z\"/><path d=\"M17.41 7.96l-1.37-1.37c-.4-.4-.92-.59-1.43-.59-.52 0-1.04.2-1.43.59L10.3 9.45l-7.72 7.72c-.78.78-.78 2.05 0 2.83L4 21.41c.39.39.9.59 1.41.59.51 0 1.02-.2 1.41-.59l7.78-7.78 2.81-2.81c.8-.78.8-2.07 0-2.86zM5.41 20L4 18.59l7.72-7.72 1.47 1.35L5.41 20z\"/>\n",
              "  </svg>\n",
              "      </button>\n",
              "      \n",
              "  <style>\n",
              "    .colab-df-container {\n",
              "      display:flex;\n",
              "      flex-wrap:wrap;\n",
              "      gap: 12px;\n",
              "    }\n",
              "\n",
              "    .colab-df-convert {\n",
              "      background-color: #E8F0FE;\n",
              "      border: none;\n",
              "      border-radius: 50%;\n",
              "      cursor: pointer;\n",
              "      display: none;\n",
              "      fill: #1967D2;\n",
              "      height: 32px;\n",
              "      padding: 0 0 0 0;\n",
              "      width: 32px;\n",
              "    }\n",
              "\n",
              "    .colab-df-convert:hover {\n",
              "      background-color: #E2EBFA;\n",
              "      box-shadow: 0px 1px 2px rgba(60, 64, 67, 0.3), 0px 1px 3px 1px rgba(60, 64, 67, 0.15);\n",
              "      fill: #174EA6;\n",
              "    }\n",
              "\n",
              "    [theme=dark] .colab-df-convert {\n",
              "      background-color: #3B4455;\n",
              "      fill: #D2E3FC;\n",
              "    }\n",
              "\n",
              "    [theme=dark] .colab-df-convert:hover {\n",
              "      background-color: #434B5C;\n",
              "      box-shadow: 0px 1px 3px 1px rgba(0, 0, 0, 0.15);\n",
              "      filter: drop-shadow(0px 1px 2px rgba(0, 0, 0, 0.3));\n",
              "      fill: #FFFFFF;\n",
              "    }\n",
              "  </style>\n",
              "\n",
              "      <script>\n",
              "        const buttonEl =\n",
              "          document.querySelector('#df-dfb61767-8ae1-4b88-9893-9c99827f7efa button.colab-df-convert');\n",
              "        buttonEl.style.display =\n",
              "          google.colab.kernel.accessAllowed ? 'block' : 'none';\n",
              "\n",
              "        async function convertToInteractive(key) {\n",
              "          const element = document.querySelector('#df-dfb61767-8ae1-4b88-9893-9c99827f7efa');\n",
              "          const dataTable =\n",
              "            await google.colab.kernel.invokeFunction('convertToInteractive',\n",
              "                                                     [key], {});\n",
              "          if (!dataTable) return;\n",
              "\n",
              "          const docLinkHtml = 'Like what you see? Visit the ' +\n",
              "            '<a target=\"_blank\" href=https://colab.research.google.com/notebooks/data_table.ipynb>data table notebook</a>'\n",
              "            + ' to learn more about interactive tables.';\n",
              "          element.innerHTML = '';\n",
              "          dataTable['output_type'] = 'display_data';\n",
              "          await google.colab.output.renderOutput(dataTable, element);\n",
              "          const docLink = document.createElement('div');\n",
              "          docLink.innerHTML = docLinkHtml;\n",
              "          element.appendChild(docLink);\n",
              "        }\n",
              "      </script>\n",
              "    </div>\n",
              "  </div>\n",
              "  "
            ]
          },
          "metadata": {},
          "execution_count": 1
        }
      ]
    },
    {
      "cell_type": "markdown",
      "source": [
        "We also load a CSV that contains passing statistics by player, sorted by most overall passing yards. The table shows the top 32 below in passing yards, led by the greatest of all time, [Tom Brady](https://en.wikipedia.org/wiki/Tom_Brady)."
      ],
      "metadata": {
        "id": "GCXTrsVvaYNQ"
      }
    },
    {
      "cell_type": "code",
      "source": [
        "df_pass = pd.read_csv(\"https://raw.githubusercontent.com/aqsh/aqsh.github.io/main/2021pass.csv\")\n",
        "df_pass.head(32)"
      ],
      "metadata": {
        "colab": {
          "base_uri": "https://localhost:8080/",
          "height": 1000
        },
        "id": "vRef4FgqZPTC",
        "outputId": "ca41aff8-1afc-44ef-baf0-e1ce45c693dd"
      },
      "execution_count": 2,
      "outputs": [
        {
          "output_type": "execute_result",
          "data": {
            "text/plain": [
              "    Rk                       Player   Tm  Age  Pos   G  GS   QBrec  Cmp  Att  \\\n",
              "0    1          Tom Brady*\\BradTo00  TAM   44   QB  17  17  13-4-0  485  719   \n",
              "1    2     Justin Herbert*\\HerbJu00  LAC   23   QB  17  17   9-8-0  443  672   \n",
              "2    3    Matthew Stafford\\StafMa00  LAR   33   QB  17  17  12-5-0  404  601   \n",
              "3    4    Patrick Mahomes*\\MahoPa00  KAN   26   QB  17  17  12-5-0  436  658   \n",
              "4    5          Derek Carr\\CarrDe02  LVR   30   QB  17  17  10-7-0  428  626   \n",
              "5    6          Joe Burrow\\BurrJo01  CIN   25   QB  16  16  10-6-0  366  520   \n",
              "6    7        Dak Prescott\\PresDa01  DAL   28   QB  16  16  11-5-0  410  596   \n",
              "7    8          Josh Allen\\AlleJo02  BUF   25   QB  17  17  11-6-0  409  646   \n",
              "8    9       Kirk Cousins*\\CousKi00  MIN   33   QB  16  16   8-8-0  372  561   \n",
              "9   10     Aaron Rodgers*+\\RodgAa00  GNB   38   QB  16  16  13-3-0  366  531   \n",
              "10  11           Matt Ryan\\RyanMa00  ATL   36   QB  17  17  7-10-0  375  560   \n",
              "11  12     Jimmy Garoppolo\\GaroJi00  SFO   30   QB  15  15   9-6-0  301  441   \n",
              "12  13          Mac Jones*\\JoneMa05  NWE   23   QB  17  17  10-7-0  352  521   \n",
              "13  14       Kyler Murray*\\MurrKy00  ARI   24   QB  14  14   9-5-0  333  481   \n",
              "14  15  Ben Roethlisberger\\RoetBe00  PIT   39  NaN  16  16   9-7-0  390  605   \n",
              "15  16      Ryan Tannehill\\TannRy00  TEN   33   QB  17  17  12-5-0  357  531   \n",
              "16  17     Trevor Lawrence\\LawrTr00  JAX   22   QB  17  17  3-14-0  359  602   \n",
              "17  18        Carson Wentz\\WentCa00  IND   29   QB  17  17   9-8-0  322  516   \n",
              "18  19     Taylor Heinicke\\HeinTa00  WAS   28   QB  16  15   7-8-0  321  494   \n",
              "19  20          Jared Goff\\GoffJa00  DET   27   QB  14  14  3-10-1  332  494   \n",
              "20  21         Jalen Hurts\\HurtJa00  PHI   23   QB  15  15   8-7-0  265  432   \n",
              "21  22     Russell Wilson*\\WilsRu00  SEA   33   QB  14  14   6-8-0  259  400   \n",
              "22  23   Teddy Bridgewater\\BridTe00  DEN   29   QB  14  14   7-7-0  285  426   \n",
              "23  24      Baker Mayfield\\MayfBa00  CLE   26   QB  14  14   6-8-0  253  418   \n",
              "24  25      Lamar Jackson*\\JackLa00  BAL   24   QB  12  12   7-5-0  246  382   \n",
              "25  26         Davis Mills\\MillDa02  HOU   23   QB  13  11   2-9-0  263  394   \n",
              "26  27      Tua Tagovailoa\\TagoTu00  MIA   23   QB  13  12   7-5-0  263  388   \n",
              "27  28         Sam Darnold\\DarnSa00  CAR   24   QB  12  11   4-7-0  243  406   \n",
              "28  29        Daniel Jones\\JoneDa05  NYG   24   QB  11  11   4-7-0  232  361   \n",
              "29  30         Zach Wilson\\WilsZa00  NYJ   22   QB  13  13  3-10-0  213  383   \n",
              "30  31       Justin Fields\\FielJu00  CHI   22   qb  12  10   2-8-0  159  270   \n",
              "31  32         Andy Dalton\\DaltAn00  CHI   34   qb   8   6   3-3-0  149  236   \n",
              "\n",
              "    ...    Y/G   Rate   QBR  Sk  Yds.1   Sk%  NY/A  ANY/A  4QC  GWD  \n",
              "0   ...  312.7  102.1  68.1  22    144   3.0  6.98   7.41  3.0  5.0  \n",
              "1   ...  294.9   97.7  65.6  31    214   4.4  6.83   6.95  5.0  5.0  \n",
              "2   ...  287.4  102.9  63.8  30    243   4.8  7.36   7.45  3.0  4.0  \n",
              "3   ...  284.6   98.5  62.2  28    146   4.1  6.84   7.07  3.0  3.0  \n",
              "4   ...  282.6   94.0  52.4  40    241   6.0  6.85   6.60  3.0  6.0  \n",
              "5   ...  288.2  108.3  54.3  51    370   8.9  7.43   7.51  2.0  3.0  \n",
              "6   ...  278.1  104.2  54.6  30    144   4.8  6.88   7.34  1.0  2.0  \n",
              "7   ...  259.2   92.2  60.7  26    164   3.9  6.31   6.38  NaN  NaN  \n",
              "8   ...  263.8  103.1  52.3  28    197   4.8  6.83   7.42  3.0  4.0  \n",
              "9   ...  257.2  111.9  69.1  30    188   5.3  7.00   8.00  1.0  2.0  \n",
              "10  ...  233.4   90.4  46.1  40    274   6.7  6.16   5.92  3.0  4.0  \n",
              "11  ...  254.0   98.7  53.3  29    201   6.2  7.68   7.38  3.0  3.0  \n",
              "12  ...  223.6   92.5  50.9  28    241   5.1  6.48   6.22  1.0  1.0  \n",
              "13  ...  270.5  100.6  57.3  31    286   6.1  6.84   6.90  1.0  1.0  \n",
              "14  ...  233.8   86.8  35.6  38    239   5.9  5.44   5.43  6.0  7.0  \n",
              "15  ...  219.6   89.6  55.9  47    327   8.1  5.89   5.53  3.0  4.0  \n",
              "16  ...  214.2   71.9  33.5  32    238   5.0  5.37   4.54  1.0  2.0  \n",
              "17  ...  209.6   94.6  54.7  32    227   5.8  6.09   6.50  NaN  NaN  \n",
              "18  ...  213.7   85.9  39.9  38    278   7.1  5.90   5.39  3.0  4.0  \n",
              "19  ...  231.8   91.5  39.5  35    280   6.6  5.60   5.64  2.0  2.0  \n",
              "20  ...  209.6   87.2  48.5  26    150   5.7  6.54   6.35  2.0  2.0  \n",
              "21  ...  222.4  103.1  54.7  33    266   7.6  6.58   7.11  0.0  1.0  \n",
              "22  ...  218.0   94.9  47.4  31    211   6.8  6.22   6.32  0.0  1.0  \n",
              "23  ...  215.0   83.1  35.1  43    269   9.3  5.95   5.41  NaN  NaN  \n",
              "24  ...  240.2   87.0  50.7  38    190   9.0  6.41   5.78  4.0  4.0  \n",
              "25  ...  204.9   88.8  35.5  31    206   7.3  5.78   5.48  NaN  NaN  \n",
              "26  ...  204.1   90.1  49.7  20    152   4.9  6.13   5.81  0.0  2.0  \n",
              "27  ...  210.6   71.9  33.2  35    204   7.9  5.27   4.35  NaN  NaN  \n",
              "28  ...  220.7   84.8  41.5  22    160   5.7  5.92   5.62  1.0  1.0  \n",
              "29  ...  179.5   69.7  28.2  44    370  10.3  4.60   3.86  1.0  1.0  \n",
              "30  ...  155.8   73.2  26.4  36    264  11.8  5.25   4.24  NaN  NaN  \n",
              "31  ...  189.4   76.9  33.6  18    143   7.1  5.40   4.44  1.0  1.0  \n",
              "\n",
              "[32 rows x 31 columns]"
            ],
            "text/html": [
              "\n",
              "  <div id=\"df-d37a3d67-a52c-41fd-9671-ec1124e88a4d\">\n",
              "    <div class=\"colab-df-container\">\n",
              "      <div>\n",
              "<style scoped>\n",
              "    .dataframe tbody tr th:only-of-type {\n",
              "        vertical-align: middle;\n",
              "    }\n",
              "\n",
              "    .dataframe tbody tr th {\n",
              "        vertical-align: top;\n",
              "    }\n",
              "\n",
              "    .dataframe thead th {\n",
              "        text-align: right;\n",
              "    }\n",
              "</style>\n",
              "<table border=\"1\" class=\"dataframe\">\n",
              "  <thead>\n",
              "    <tr style=\"text-align: right;\">\n",
              "      <th></th>\n",
              "      <th>Rk</th>\n",
              "      <th>Player</th>\n",
              "      <th>Tm</th>\n",
              "      <th>Age</th>\n",
              "      <th>Pos</th>\n",
              "      <th>G</th>\n",
              "      <th>GS</th>\n",
              "      <th>QBrec</th>\n",
              "      <th>Cmp</th>\n",
              "      <th>Att</th>\n",
              "      <th>...</th>\n",
              "      <th>Y/G</th>\n",
              "      <th>Rate</th>\n",
              "      <th>QBR</th>\n",
              "      <th>Sk</th>\n",
              "      <th>Yds.1</th>\n",
              "      <th>Sk%</th>\n",
              "      <th>NY/A</th>\n",
              "      <th>ANY/A</th>\n",
              "      <th>4QC</th>\n",
              "      <th>GWD</th>\n",
              "    </tr>\n",
              "  </thead>\n",
              "  <tbody>\n",
              "    <tr>\n",
              "      <th>0</th>\n",
              "      <td>1</td>\n",
              "      <td>Tom Brady*\\BradTo00</td>\n",
              "      <td>TAM</td>\n",
              "      <td>44</td>\n",
              "      <td>QB</td>\n",
              "      <td>17</td>\n",
              "      <td>17</td>\n",
              "      <td>13-4-0</td>\n",
              "      <td>485</td>\n",
              "      <td>719</td>\n",
              "      <td>...</td>\n",
              "      <td>312.7</td>\n",
              "      <td>102.1</td>\n",
              "      <td>68.1</td>\n",
              "      <td>22</td>\n",
              "      <td>144</td>\n",
              "      <td>3.0</td>\n",
              "      <td>6.98</td>\n",
              "      <td>7.41</td>\n",
              "      <td>3.0</td>\n",
              "      <td>5.0</td>\n",
              "    </tr>\n",
              "    <tr>\n",
              "      <th>1</th>\n",
              "      <td>2</td>\n",
              "      <td>Justin Herbert*\\HerbJu00</td>\n",
              "      <td>LAC</td>\n",
              "      <td>23</td>\n",
              "      <td>QB</td>\n",
              "      <td>17</td>\n",
              "      <td>17</td>\n",
              "      <td>9-8-0</td>\n",
              "      <td>443</td>\n",
              "      <td>672</td>\n",
              "      <td>...</td>\n",
              "      <td>294.9</td>\n",
              "      <td>97.7</td>\n",
              "      <td>65.6</td>\n",
              "      <td>31</td>\n",
              "      <td>214</td>\n",
              "      <td>4.4</td>\n",
              "      <td>6.83</td>\n",
              "      <td>6.95</td>\n",
              "      <td>5.0</td>\n",
              "      <td>5.0</td>\n",
              "    </tr>\n",
              "    <tr>\n",
              "      <th>2</th>\n",
              "      <td>3</td>\n",
              "      <td>Matthew Stafford\\StafMa00</td>\n",
              "      <td>LAR</td>\n",
              "      <td>33</td>\n",
              "      <td>QB</td>\n",
              "      <td>17</td>\n",
              "      <td>17</td>\n",
              "      <td>12-5-0</td>\n",
              "      <td>404</td>\n",
              "      <td>601</td>\n",
              "      <td>...</td>\n",
              "      <td>287.4</td>\n",
              "      <td>102.9</td>\n",
              "      <td>63.8</td>\n",
              "      <td>30</td>\n",
              "      <td>243</td>\n",
              "      <td>4.8</td>\n",
              "      <td>7.36</td>\n",
              "      <td>7.45</td>\n",
              "      <td>3.0</td>\n",
              "      <td>4.0</td>\n",
              "    </tr>\n",
              "    <tr>\n",
              "      <th>3</th>\n",
              "      <td>4</td>\n",
              "      <td>Patrick Mahomes*\\MahoPa00</td>\n",
              "      <td>KAN</td>\n",
              "      <td>26</td>\n",
              "      <td>QB</td>\n",
              "      <td>17</td>\n",
              "      <td>17</td>\n",
              "      <td>12-5-0</td>\n",
              "      <td>436</td>\n",
              "      <td>658</td>\n",
              "      <td>...</td>\n",
              "      <td>284.6</td>\n",
              "      <td>98.5</td>\n",
              "      <td>62.2</td>\n",
              "      <td>28</td>\n",
              "      <td>146</td>\n",
              "      <td>4.1</td>\n",
              "      <td>6.84</td>\n",
              "      <td>7.07</td>\n",
              "      <td>3.0</td>\n",
              "      <td>3.0</td>\n",
              "    </tr>\n",
              "    <tr>\n",
              "      <th>4</th>\n",
              "      <td>5</td>\n",
              "      <td>Derek Carr\\CarrDe02</td>\n",
              "      <td>LVR</td>\n",
              "      <td>30</td>\n",
              "      <td>QB</td>\n",
              "      <td>17</td>\n",
              "      <td>17</td>\n",
              "      <td>10-7-0</td>\n",
              "      <td>428</td>\n",
              "      <td>626</td>\n",
              "      <td>...</td>\n",
              "      <td>282.6</td>\n",
              "      <td>94.0</td>\n",
              "      <td>52.4</td>\n",
              "      <td>40</td>\n",
              "      <td>241</td>\n",
              "      <td>6.0</td>\n",
              "      <td>6.85</td>\n",
              "      <td>6.60</td>\n",
              "      <td>3.0</td>\n",
              "      <td>6.0</td>\n",
              "    </tr>\n",
              "    <tr>\n",
              "      <th>5</th>\n",
              "      <td>6</td>\n",
              "      <td>Joe Burrow\\BurrJo01</td>\n",
              "      <td>CIN</td>\n",
              "      <td>25</td>\n",
              "      <td>QB</td>\n",
              "      <td>16</td>\n",
              "      <td>16</td>\n",
              "      <td>10-6-0</td>\n",
              "      <td>366</td>\n",
              "      <td>520</td>\n",
              "      <td>...</td>\n",
              "      <td>288.2</td>\n",
              "      <td>108.3</td>\n",
              "      <td>54.3</td>\n",
              "      <td>51</td>\n",
              "      <td>370</td>\n",
              "      <td>8.9</td>\n",
              "      <td>7.43</td>\n",
              "      <td>7.51</td>\n",
              "      <td>2.0</td>\n",
              "      <td>3.0</td>\n",
              "    </tr>\n",
              "    <tr>\n",
              "      <th>6</th>\n",
              "      <td>7</td>\n",
              "      <td>Dak Prescott\\PresDa01</td>\n",
              "      <td>DAL</td>\n",
              "      <td>28</td>\n",
              "      <td>QB</td>\n",
              "      <td>16</td>\n",
              "      <td>16</td>\n",
              "      <td>11-5-0</td>\n",
              "      <td>410</td>\n",
              "      <td>596</td>\n",
              "      <td>...</td>\n",
              "      <td>278.1</td>\n",
              "      <td>104.2</td>\n",
              "      <td>54.6</td>\n",
              "      <td>30</td>\n",
              "      <td>144</td>\n",
              "      <td>4.8</td>\n",
              "      <td>6.88</td>\n",
              "      <td>7.34</td>\n",
              "      <td>1.0</td>\n",
              "      <td>2.0</td>\n",
              "    </tr>\n",
              "    <tr>\n",
              "      <th>7</th>\n",
              "      <td>8</td>\n",
              "      <td>Josh Allen\\AlleJo02</td>\n",
              "      <td>BUF</td>\n",
              "      <td>25</td>\n",
              "      <td>QB</td>\n",
              "      <td>17</td>\n",
              "      <td>17</td>\n",
              "      <td>11-6-0</td>\n",
              "      <td>409</td>\n",
              "      <td>646</td>\n",
              "      <td>...</td>\n",
              "      <td>259.2</td>\n",
              "      <td>92.2</td>\n",
              "      <td>60.7</td>\n",
              "      <td>26</td>\n",
              "      <td>164</td>\n",
              "      <td>3.9</td>\n",
              "      <td>6.31</td>\n",
              "      <td>6.38</td>\n",
              "      <td>NaN</td>\n",
              "      <td>NaN</td>\n",
              "    </tr>\n",
              "    <tr>\n",
              "      <th>8</th>\n",
              "      <td>9</td>\n",
              "      <td>Kirk Cousins*\\CousKi00</td>\n",
              "      <td>MIN</td>\n",
              "      <td>33</td>\n",
              "      <td>QB</td>\n",
              "      <td>16</td>\n",
              "      <td>16</td>\n",
              "      <td>8-8-0</td>\n",
              "      <td>372</td>\n",
              "      <td>561</td>\n",
              "      <td>...</td>\n",
              "      <td>263.8</td>\n",
              "      <td>103.1</td>\n",
              "      <td>52.3</td>\n",
              "      <td>28</td>\n",
              "      <td>197</td>\n",
              "      <td>4.8</td>\n",
              "      <td>6.83</td>\n",
              "      <td>7.42</td>\n",
              "      <td>3.0</td>\n",
              "      <td>4.0</td>\n",
              "    </tr>\n",
              "    <tr>\n",
              "      <th>9</th>\n",
              "      <td>10</td>\n",
              "      <td>Aaron Rodgers*+\\RodgAa00</td>\n",
              "      <td>GNB</td>\n",
              "      <td>38</td>\n",
              "      <td>QB</td>\n",
              "      <td>16</td>\n",
              "      <td>16</td>\n",
              "      <td>13-3-0</td>\n",
              "      <td>366</td>\n",
              "      <td>531</td>\n",
              "      <td>...</td>\n",
              "      <td>257.2</td>\n",
              "      <td>111.9</td>\n",
              "      <td>69.1</td>\n",
              "      <td>30</td>\n",
              "      <td>188</td>\n",
              "      <td>5.3</td>\n",
              "      <td>7.00</td>\n",
              "      <td>8.00</td>\n",
              "      <td>1.0</td>\n",
              "      <td>2.0</td>\n",
              "    </tr>\n",
              "    <tr>\n",
              "      <th>10</th>\n",
              "      <td>11</td>\n",
              "      <td>Matt Ryan\\RyanMa00</td>\n",
              "      <td>ATL</td>\n",
              "      <td>36</td>\n",
              "      <td>QB</td>\n",
              "      <td>17</td>\n",
              "      <td>17</td>\n",
              "      <td>7-10-0</td>\n",
              "      <td>375</td>\n",
              "      <td>560</td>\n",
              "      <td>...</td>\n",
              "      <td>233.4</td>\n",
              "      <td>90.4</td>\n",
              "      <td>46.1</td>\n",
              "      <td>40</td>\n",
              "      <td>274</td>\n",
              "      <td>6.7</td>\n",
              "      <td>6.16</td>\n",
              "      <td>5.92</td>\n",
              "      <td>3.0</td>\n",
              "      <td>4.0</td>\n",
              "    </tr>\n",
              "    <tr>\n",
              "      <th>11</th>\n",
              "      <td>12</td>\n",
              "      <td>Jimmy Garoppolo\\GaroJi00</td>\n",
              "      <td>SFO</td>\n",
              "      <td>30</td>\n",
              "      <td>QB</td>\n",
              "      <td>15</td>\n",
              "      <td>15</td>\n",
              "      <td>9-6-0</td>\n",
              "      <td>301</td>\n",
              "      <td>441</td>\n",
              "      <td>...</td>\n",
              "      <td>254.0</td>\n",
              "      <td>98.7</td>\n",
              "      <td>53.3</td>\n",
              "      <td>29</td>\n",
              "      <td>201</td>\n",
              "      <td>6.2</td>\n",
              "      <td>7.68</td>\n",
              "      <td>7.38</td>\n",
              "      <td>3.0</td>\n",
              "      <td>3.0</td>\n",
              "    </tr>\n",
              "    <tr>\n",
              "      <th>12</th>\n",
              "      <td>13</td>\n",
              "      <td>Mac Jones*\\JoneMa05</td>\n",
              "      <td>NWE</td>\n",
              "      <td>23</td>\n",
              "      <td>QB</td>\n",
              "      <td>17</td>\n",
              "      <td>17</td>\n",
              "      <td>10-7-0</td>\n",
              "      <td>352</td>\n",
              "      <td>521</td>\n",
              "      <td>...</td>\n",
              "      <td>223.6</td>\n",
              "      <td>92.5</td>\n",
              "      <td>50.9</td>\n",
              "      <td>28</td>\n",
              "      <td>241</td>\n",
              "      <td>5.1</td>\n",
              "      <td>6.48</td>\n",
              "      <td>6.22</td>\n",
              "      <td>1.0</td>\n",
              "      <td>1.0</td>\n",
              "    </tr>\n",
              "    <tr>\n",
              "      <th>13</th>\n",
              "      <td>14</td>\n",
              "      <td>Kyler Murray*\\MurrKy00</td>\n",
              "      <td>ARI</td>\n",
              "      <td>24</td>\n",
              "      <td>QB</td>\n",
              "      <td>14</td>\n",
              "      <td>14</td>\n",
              "      <td>9-5-0</td>\n",
              "      <td>333</td>\n",
              "      <td>481</td>\n",
              "      <td>...</td>\n",
              "      <td>270.5</td>\n",
              "      <td>100.6</td>\n",
              "      <td>57.3</td>\n",
              "      <td>31</td>\n",
              "      <td>286</td>\n",
              "      <td>6.1</td>\n",
              "      <td>6.84</td>\n",
              "      <td>6.90</td>\n",
              "      <td>1.0</td>\n",
              "      <td>1.0</td>\n",
              "    </tr>\n",
              "    <tr>\n",
              "      <th>14</th>\n",
              "      <td>15</td>\n",
              "      <td>Ben Roethlisberger\\RoetBe00</td>\n",
              "      <td>PIT</td>\n",
              "      <td>39</td>\n",
              "      <td>NaN</td>\n",
              "      <td>16</td>\n",
              "      <td>16</td>\n",
              "      <td>9-7-0</td>\n",
              "      <td>390</td>\n",
              "      <td>605</td>\n",
              "      <td>...</td>\n",
              "      <td>233.8</td>\n",
              "      <td>86.8</td>\n",
              "      <td>35.6</td>\n",
              "      <td>38</td>\n",
              "      <td>239</td>\n",
              "      <td>5.9</td>\n",
              "      <td>5.44</td>\n",
              "      <td>5.43</td>\n",
              "      <td>6.0</td>\n",
              "      <td>7.0</td>\n",
              "    </tr>\n",
              "    <tr>\n",
              "      <th>15</th>\n",
              "      <td>16</td>\n",
              "      <td>Ryan Tannehill\\TannRy00</td>\n",
              "      <td>TEN</td>\n",
              "      <td>33</td>\n",
              "      <td>QB</td>\n",
              "      <td>17</td>\n",
              "      <td>17</td>\n",
              "      <td>12-5-0</td>\n",
              "      <td>357</td>\n",
              "      <td>531</td>\n",
              "      <td>...</td>\n",
              "      <td>219.6</td>\n",
              "      <td>89.6</td>\n",
              "      <td>55.9</td>\n",
              "      <td>47</td>\n",
              "      <td>327</td>\n",
              "      <td>8.1</td>\n",
              "      <td>5.89</td>\n",
              "      <td>5.53</td>\n",
              "      <td>3.0</td>\n",
              "      <td>4.0</td>\n",
              "    </tr>\n",
              "    <tr>\n",
              "      <th>16</th>\n",
              "      <td>17</td>\n",
              "      <td>Trevor Lawrence\\LawrTr00</td>\n",
              "      <td>JAX</td>\n",
              "      <td>22</td>\n",
              "      <td>QB</td>\n",
              "      <td>17</td>\n",
              "      <td>17</td>\n",
              "      <td>3-14-0</td>\n",
              "      <td>359</td>\n",
              "      <td>602</td>\n",
              "      <td>...</td>\n",
              "      <td>214.2</td>\n",
              "      <td>71.9</td>\n",
              "      <td>33.5</td>\n",
              "      <td>32</td>\n",
              "      <td>238</td>\n",
              "      <td>5.0</td>\n",
              "      <td>5.37</td>\n",
              "      <td>4.54</td>\n",
              "      <td>1.0</td>\n",
              "      <td>2.0</td>\n",
              "    </tr>\n",
              "    <tr>\n",
              "      <th>17</th>\n",
              "      <td>18</td>\n",
              "      <td>Carson Wentz\\WentCa00</td>\n",
              "      <td>IND</td>\n",
              "      <td>29</td>\n",
              "      <td>QB</td>\n",
              "      <td>17</td>\n",
              "      <td>17</td>\n",
              "      <td>9-8-0</td>\n",
              "      <td>322</td>\n",
              "      <td>516</td>\n",
              "      <td>...</td>\n",
              "      <td>209.6</td>\n",
              "      <td>94.6</td>\n",
              "      <td>54.7</td>\n",
              "      <td>32</td>\n",
              "      <td>227</td>\n",
              "      <td>5.8</td>\n",
              "      <td>6.09</td>\n",
              "      <td>6.50</td>\n",
              "      <td>NaN</td>\n",
              "      <td>NaN</td>\n",
              "    </tr>\n",
              "    <tr>\n",
              "      <th>18</th>\n",
              "      <td>19</td>\n",
              "      <td>Taylor Heinicke\\HeinTa00</td>\n",
              "      <td>WAS</td>\n",
              "      <td>28</td>\n",
              "      <td>QB</td>\n",
              "      <td>16</td>\n",
              "      <td>15</td>\n",
              "      <td>7-8-0</td>\n",
              "      <td>321</td>\n",
              "      <td>494</td>\n",
              "      <td>...</td>\n",
              "      <td>213.7</td>\n",
              "      <td>85.9</td>\n",
              "      <td>39.9</td>\n",
              "      <td>38</td>\n",
              "      <td>278</td>\n",
              "      <td>7.1</td>\n",
              "      <td>5.90</td>\n",
              "      <td>5.39</td>\n",
              "      <td>3.0</td>\n",
              "      <td>4.0</td>\n",
              "    </tr>\n",
              "    <tr>\n",
              "      <th>19</th>\n",
              "      <td>20</td>\n",
              "      <td>Jared Goff\\GoffJa00</td>\n",
              "      <td>DET</td>\n",
              "      <td>27</td>\n",
              "      <td>QB</td>\n",
              "      <td>14</td>\n",
              "      <td>14</td>\n",
              "      <td>3-10-1</td>\n",
              "      <td>332</td>\n",
              "      <td>494</td>\n",
              "      <td>...</td>\n",
              "      <td>231.8</td>\n",
              "      <td>91.5</td>\n",
              "      <td>39.5</td>\n",
              "      <td>35</td>\n",
              "      <td>280</td>\n",
              "      <td>6.6</td>\n",
              "      <td>5.60</td>\n",
              "      <td>5.64</td>\n",
              "      <td>2.0</td>\n",
              "      <td>2.0</td>\n",
              "    </tr>\n",
              "    <tr>\n",
              "      <th>20</th>\n",
              "      <td>21</td>\n",
              "      <td>Jalen Hurts\\HurtJa00</td>\n",
              "      <td>PHI</td>\n",
              "      <td>23</td>\n",
              "      <td>QB</td>\n",
              "      <td>15</td>\n",
              "      <td>15</td>\n",
              "      <td>8-7-0</td>\n",
              "      <td>265</td>\n",
              "      <td>432</td>\n",
              "      <td>...</td>\n",
              "      <td>209.6</td>\n",
              "      <td>87.2</td>\n",
              "      <td>48.5</td>\n",
              "      <td>26</td>\n",
              "      <td>150</td>\n",
              "      <td>5.7</td>\n",
              "      <td>6.54</td>\n",
              "      <td>6.35</td>\n",
              "      <td>2.0</td>\n",
              "      <td>2.0</td>\n",
              "    </tr>\n",
              "    <tr>\n",
              "      <th>21</th>\n",
              "      <td>22</td>\n",
              "      <td>Russell Wilson*\\WilsRu00</td>\n",
              "      <td>SEA</td>\n",
              "      <td>33</td>\n",
              "      <td>QB</td>\n",
              "      <td>14</td>\n",
              "      <td>14</td>\n",
              "      <td>6-8-0</td>\n",
              "      <td>259</td>\n",
              "      <td>400</td>\n",
              "      <td>...</td>\n",
              "      <td>222.4</td>\n",
              "      <td>103.1</td>\n",
              "      <td>54.7</td>\n",
              "      <td>33</td>\n",
              "      <td>266</td>\n",
              "      <td>7.6</td>\n",
              "      <td>6.58</td>\n",
              "      <td>7.11</td>\n",
              "      <td>0.0</td>\n",
              "      <td>1.0</td>\n",
              "    </tr>\n",
              "    <tr>\n",
              "      <th>22</th>\n",
              "      <td>23</td>\n",
              "      <td>Teddy Bridgewater\\BridTe00</td>\n",
              "      <td>DEN</td>\n",
              "      <td>29</td>\n",
              "      <td>QB</td>\n",
              "      <td>14</td>\n",
              "      <td>14</td>\n",
              "      <td>7-7-0</td>\n",
              "      <td>285</td>\n",
              "      <td>426</td>\n",
              "      <td>...</td>\n",
              "      <td>218.0</td>\n",
              "      <td>94.9</td>\n",
              "      <td>47.4</td>\n",
              "      <td>31</td>\n",
              "      <td>211</td>\n",
              "      <td>6.8</td>\n",
              "      <td>6.22</td>\n",
              "      <td>6.32</td>\n",
              "      <td>0.0</td>\n",
              "      <td>1.0</td>\n",
              "    </tr>\n",
              "    <tr>\n",
              "      <th>23</th>\n",
              "      <td>24</td>\n",
              "      <td>Baker Mayfield\\MayfBa00</td>\n",
              "      <td>CLE</td>\n",
              "      <td>26</td>\n",
              "      <td>QB</td>\n",
              "      <td>14</td>\n",
              "      <td>14</td>\n",
              "      <td>6-8-0</td>\n",
              "      <td>253</td>\n",
              "      <td>418</td>\n",
              "      <td>...</td>\n",
              "      <td>215.0</td>\n",
              "      <td>83.1</td>\n",
              "      <td>35.1</td>\n",
              "      <td>43</td>\n",
              "      <td>269</td>\n",
              "      <td>9.3</td>\n",
              "      <td>5.95</td>\n",
              "      <td>5.41</td>\n",
              "      <td>NaN</td>\n",
              "      <td>NaN</td>\n",
              "    </tr>\n",
              "    <tr>\n",
              "      <th>24</th>\n",
              "      <td>25</td>\n",
              "      <td>Lamar Jackson*\\JackLa00</td>\n",
              "      <td>BAL</td>\n",
              "      <td>24</td>\n",
              "      <td>QB</td>\n",
              "      <td>12</td>\n",
              "      <td>12</td>\n",
              "      <td>7-5-0</td>\n",
              "      <td>246</td>\n",
              "      <td>382</td>\n",
              "      <td>...</td>\n",
              "      <td>240.2</td>\n",
              "      <td>87.0</td>\n",
              "      <td>50.7</td>\n",
              "      <td>38</td>\n",
              "      <td>190</td>\n",
              "      <td>9.0</td>\n",
              "      <td>6.41</td>\n",
              "      <td>5.78</td>\n",
              "      <td>4.0</td>\n",
              "      <td>4.0</td>\n",
              "    </tr>\n",
              "    <tr>\n",
              "      <th>25</th>\n",
              "      <td>26</td>\n",
              "      <td>Davis Mills\\MillDa02</td>\n",
              "      <td>HOU</td>\n",
              "      <td>23</td>\n",
              "      <td>QB</td>\n",
              "      <td>13</td>\n",
              "      <td>11</td>\n",
              "      <td>2-9-0</td>\n",
              "      <td>263</td>\n",
              "      <td>394</td>\n",
              "      <td>...</td>\n",
              "      <td>204.9</td>\n",
              "      <td>88.8</td>\n",
              "      <td>35.5</td>\n",
              "      <td>31</td>\n",
              "      <td>206</td>\n",
              "      <td>7.3</td>\n",
              "      <td>5.78</td>\n",
              "      <td>5.48</td>\n",
              "      <td>NaN</td>\n",
              "      <td>NaN</td>\n",
              "    </tr>\n",
              "    <tr>\n",
              "      <th>26</th>\n",
              "      <td>27</td>\n",
              "      <td>Tua Tagovailoa\\TagoTu00</td>\n",
              "      <td>MIA</td>\n",
              "      <td>23</td>\n",
              "      <td>QB</td>\n",
              "      <td>13</td>\n",
              "      <td>12</td>\n",
              "      <td>7-5-0</td>\n",
              "      <td>263</td>\n",
              "      <td>388</td>\n",
              "      <td>...</td>\n",
              "      <td>204.1</td>\n",
              "      <td>90.1</td>\n",
              "      <td>49.7</td>\n",
              "      <td>20</td>\n",
              "      <td>152</td>\n",
              "      <td>4.9</td>\n",
              "      <td>6.13</td>\n",
              "      <td>5.81</td>\n",
              "      <td>0.0</td>\n",
              "      <td>2.0</td>\n",
              "    </tr>\n",
              "    <tr>\n",
              "      <th>27</th>\n",
              "      <td>28</td>\n",
              "      <td>Sam Darnold\\DarnSa00</td>\n",
              "      <td>CAR</td>\n",
              "      <td>24</td>\n",
              "      <td>QB</td>\n",
              "      <td>12</td>\n",
              "      <td>11</td>\n",
              "      <td>4-7-0</td>\n",
              "      <td>243</td>\n",
              "      <td>406</td>\n",
              "      <td>...</td>\n",
              "      <td>210.6</td>\n",
              "      <td>71.9</td>\n",
              "      <td>33.2</td>\n",
              "      <td>35</td>\n",
              "      <td>204</td>\n",
              "      <td>7.9</td>\n",
              "      <td>5.27</td>\n",
              "      <td>4.35</td>\n",
              "      <td>NaN</td>\n",
              "      <td>NaN</td>\n",
              "    </tr>\n",
              "    <tr>\n",
              "      <th>28</th>\n",
              "      <td>29</td>\n",
              "      <td>Daniel Jones\\JoneDa05</td>\n",
              "      <td>NYG</td>\n",
              "      <td>24</td>\n",
              "      <td>QB</td>\n",
              "      <td>11</td>\n",
              "      <td>11</td>\n",
              "      <td>4-7-0</td>\n",
              "      <td>232</td>\n",
              "      <td>361</td>\n",
              "      <td>...</td>\n",
              "      <td>220.7</td>\n",
              "      <td>84.8</td>\n",
              "      <td>41.5</td>\n",
              "      <td>22</td>\n",
              "      <td>160</td>\n",
              "      <td>5.7</td>\n",
              "      <td>5.92</td>\n",
              "      <td>5.62</td>\n",
              "      <td>1.0</td>\n",
              "      <td>1.0</td>\n",
              "    </tr>\n",
              "    <tr>\n",
              "      <th>29</th>\n",
              "      <td>30</td>\n",
              "      <td>Zach Wilson\\WilsZa00</td>\n",
              "      <td>NYJ</td>\n",
              "      <td>22</td>\n",
              "      <td>QB</td>\n",
              "      <td>13</td>\n",
              "      <td>13</td>\n",
              "      <td>3-10-0</td>\n",
              "      <td>213</td>\n",
              "      <td>383</td>\n",
              "      <td>...</td>\n",
              "      <td>179.5</td>\n",
              "      <td>69.7</td>\n",
              "      <td>28.2</td>\n",
              "      <td>44</td>\n",
              "      <td>370</td>\n",
              "      <td>10.3</td>\n",
              "      <td>4.60</td>\n",
              "      <td>3.86</td>\n",
              "      <td>1.0</td>\n",
              "      <td>1.0</td>\n",
              "    </tr>\n",
              "    <tr>\n",
              "      <th>30</th>\n",
              "      <td>31</td>\n",
              "      <td>Justin Fields\\FielJu00</td>\n",
              "      <td>CHI</td>\n",
              "      <td>22</td>\n",
              "      <td>qb</td>\n",
              "      <td>12</td>\n",
              "      <td>10</td>\n",
              "      <td>2-8-0</td>\n",
              "      <td>159</td>\n",
              "      <td>270</td>\n",
              "      <td>...</td>\n",
              "      <td>155.8</td>\n",
              "      <td>73.2</td>\n",
              "      <td>26.4</td>\n",
              "      <td>36</td>\n",
              "      <td>264</td>\n",
              "      <td>11.8</td>\n",
              "      <td>5.25</td>\n",
              "      <td>4.24</td>\n",
              "      <td>NaN</td>\n",
              "      <td>NaN</td>\n",
              "    </tr>\n",
              "    <tr>\n",
              "      <th>31</th>\n",
              "      <td>32</td>\n",
              "      <td>Andy Dalton\\DaltAn00</td>\n",
              "      <td>CHI</td>\n",
              "      <td>34</td>\n",
              "      <td>qb</td>\n",
              "      <td>8</td>\n",
              "      <td>6</td>\n",
              "      <td>3-3-0</td>\n",
              "      <td>149</td>\n",
              "      <td>236</td>\n",
              "      <td>...</td>\n",
              "      <td>189.4</td>\n",
              "      <td>76.9</td>\n",
              "      <td>33.6</td>\n",
              "      <td>18</td>\n",
              "      <td>143</td>\n",
              "      <td>7.1</td>\n",
              "      <td>5.40</td>\n",
              "      <td>4.44</td>\n",
              "      <td>1.0</td>\n",
              "      <td>1.0</td>\n",
              "    </tr>\n",
              "  </tbody>\n",
              "</table>\n",
              "<p>32 rows × 31 columns</p>\n",
              "</div>\n",
              "      <button class=\"colab-df-convert\" onclick=\"convertToInteractive('df-d37a3d67-a52c-41fd-9671-ec1124e88a4d')\"\n",
              "              title=\"Convert this dataframe to an interactive table.\"\n",
              "              style=\"display:none;\">\n",
              "        \n",
              "  <svg xmlns=\"http://www.w3.org/2000/svg\" height=\"24px\"viewBox=\"0 0 24 24\"\n",
              "       width=\"24px\">\n",
              "    <path d=\"M0 0h24v24H0V0z\" fill=\"none\"/>\n",
              "    <path d=\"M18.56 5.44l.94 2.06.94-2.06 2.06-.94-2.06-.94-.94-2.06-.94 2.06-2.06.94zm-11 1L8.5 8.5l.94-2.06 2.06-.94-2.06-.94L8.5 2.5l-.94 2.06-2.06.94zm10 10l.94 2.06.94-2.06 2.06-.94-2.06-.94-.94-2.06-.94 2.06-2.06.94z\"/><path d=\"M17.41 7.96l-1.37-1.37c-.4-.4-.92-.59-1.43-.59-.52 0-1.04.2-1.43.59L10.3 9.45l-7.72 7.72c-.78.78-.78 2.05 0 2.83L4 21.41c.39.39.9.59 1.41.59.51 0 1.02-.2 1.41-.59l7.78-7.78 2.81-2.81c.8-.78.8-2.07 0-2.86zM5.41 20L4 18.59l7.72-7.72 1.47 1.35L5.41 20z\"/>\n",
              "  </svg>\n",
              "      </button>\n",
              "      \n",
              "  <style>\n",
              "    .colab-df-container {\n",
              "      display:flex;\n",
              "      flex-wrap:wrap;\n",
              "      gap: 12px;\n",
              "    }\n",
              "\n",
              "    .colab-df-convert {\n",
              "      background-color: #E8F0FE;\n",
              "      border: none;\n",
              "      border-radius: 50%;\n",
              "      cursor: pointer;\n",
              "      display: none;\n",
              "      fill: #1967D2;\n",
              "      height: 32px;\n",
              "      padding: 0 0 0 0;\n",
              "      width: 32px;\n",
              "    }\n",
              "\n",
              "    .colab-df-convert:hover {\n",
              "      background-color: #E2EBFA;\n",
              "      box-shadow: 0px 1px 2px rgba(60, 64, 67, 0.3), 0px 1px 3px 1px rgba(60, 64, 67, 0.15);\n",
              "      fill: #174EA6;\n",
              "    }\n",
              "\n",
              "    [theme=dark] .colab-df-convert {\n",
              "      background-color: #3B4455;\n",
              "      fill: #D2E3FC;\n",
              "    }\n",
              "\n",
              "    [theme=dark] .colab-df-convert:hover {\n",
              "      background-color: #434B5C;\n",
              "      box-shadow: 0px 1px 3px 1px rgba(0, 0, 0, 0.15);\n",
              "      filter: drop-shadow(0px 1px 2px rgba(0, 0, 0, 0.3));\n",
              "      fill: #FFFFFF;\n",
              "    }\n",
              "  </style>\n",
              "\n",
              "      <script>\n",
              "        const buttonEl =\n",
              "          document.querySelector('#df-d37a3d67-a52c-41fd-9671-ec1124e88a4d button.colab-df-convert');\n",
              "        buttonEl.style.display =\n",
              "          google.colab.kernel.accessAllowed ? 'block' : 'none';\n",
              "\n",
              "        async function convertToInteractive(key) {\n",
              "          const element = document.querySelector('#df-d37a3d67-a52c-41fd-9671-ec1124e88a4d');\n",
              "          const dataTable =\n",
              "            await google.colab.kernel.invokeFunction('convertToInteractive',\n",
              "                                                     [key], {});\n",
              "          if (!dataTable) return;\n",
              "\n",
              "          const docLinkHtml = 'Like what you see? Visit the ' +\n",
              "            '<a target=\"_blank\" href=https://colab.research.google.com/notebooks/data_table.ipynb>data table notebook</a>'\n",
              "            + ' to learn more about interactive tables.';\n",
              "          element.innerHTML = '';\n",
              "          dataTable['output_type'] = 'display_data';\n",
              "          await google.colab.output.renderOutput(dataTable, element);\n",
              "          const docLink = document.createElement('div');\n",
              "          docLink.innerHTML = docLinkHtml;\n",
              "          element.appendChild(docLink);\n",
              "        }\n",
              "      </script>\n",
              "    </div>\n",
              "  </div>\n",
              "  "
            ]
          },
          "metadata": {},
          "execution_count": 2
        }
      ]
    },
    {
      "cell_type": "markdown",
      "source": [
        "**Contextualizing the Data**"
      ],
      "metadata": {
        "id": "y1fJ3lZ7b7Uo"
      }
    },
    {
      "cell_type": "markdown",
      "source": [
        "For the uninitiated, these statistics don't mean anything. Here are what the statistics listed mean:"
      ],
      "metadata": {
        "id": "T_eDQrJmcIMp"
      }
    },
    {
      "cell_type": "markdown",
      "source": [
        "*Receiving*\n",
        "\n",
        "\n",
        "1.   Player, TM (Team), Age - Self explanatory. Team names are abbreviated to a 3-letter code. It's worth noting that receivers are typically believed to be in their physical prime before the age of 30.\n",
        "2.   Pos (Position) - WR = Wide Receiver, TE = Tight End. Wide receivers tend to be smaller and faster, so they tend to dominate receiving categories.\n",
        "3.   G (Games played), GS (Games started) - Fairly self explanatory. A player who starts a game, also called a starter, is typically considered one of the best at that position on the team, and often plays for most of the game.\n",
        "4.   Tgt (Targets), Rec (Receptions), Ctch% (Catch Percentage) - Targets refers to the number of times that the receiver was thrown the ball to, receptions refers to the number of times that the receiver caught the ball. Catch percentage is the percentage of targets that a receiver catches.\n",
        "5.   Yds (Receving yards), Y/C (Yards per catch) - Receiving yards is the total number of offensive yards generated by the receiver catching and running with the ball, yards per catch is the average number of yards gained per catch.\n",
        "6.   TD (Touchdown catches), 1D (First down catches) - Number of catches that resulted in touchdowns (points scored) or first downs (continuation of possession)\n",
        "7.   Lng (longest catch of season), Y/Tgt (Yards per target), R/G (Receptions per game), Y/G (Yards per game)\n",
        "8.   Fmb (Fumbles) - Number of times player dropped the football after obtaining possession\n",
        "\n"
      ],
      "metadata": {
        "id": "EcFc7J72do0R"
      }
    },
    {
      "cell_type": "markdown",
      "source": [
        "*Passing*\n",
        "\n",
        "\n",
        "1.   Player, Tm, Age, Pos, G, GS - Same as for receivers \n",
        "2.   QBrec - Wins and losses with the quarterback as the starter\n",
        "3.   Cmp (Completions), Att (Attempted passes), Cmp% (Completion percentage) - Attempted passes is the total number of attempted passes, completions are the number of those passes that are caught by the receivers, and completion percentage is the percentage of attempted passes that are completed.\n",
        "4.  Yds (Passing yards) - The total number of yards gained on passes by the quarterback\n",
        "5.  TD (Passing touchdowns), TD% (% of passes that are touchdowns), Int (Interceptions), Int% (% of passes that are interceptions) - Passing touchdowns are passes that directly result in touchdowns, interceptions are passes caught by the opposing team, giving them possession of the ball.\n",
        "6.  1D (First down passes)\n",
        "7.  Lng (Longest pass of season), Y/A (Yards per pass attempt), AY/A (Adjusted yards per attempt), Y/C (Yards per completion), Y/G (Yards per game) - Yards per attempt refers to the average number of yards for each target by a QB, adjusted yards per attempt is an advanced stat that rewards completions and penalizes interceptions. Yards per completion is the average number of yards gained by each completion.\n",
        "8.  Rate, QBR (Both refer to quarterback rating) - These are both ratings to determine how well a quarterback played, calculated by different formulas. QBR draws criticism for what factors it takes into account regarding a quarterback's performance, but generally a higher QBR means that a quarterback played well.\n",
        "9.  Sk (Sacks), Yds (Yards lost due to sacks), Sk% (Percentage of times sacked while attempting to pass) - Sacks are when a quarterback is tackled behind the line of scrimmage before they can pass. This loses yards, which is accounted for by yards lost due to sacks.\n",
        "10. NY/A (Net yards per attempt), ANY/A (Adjusted net yards per attempt) - Yards per attempt and adjusted yards per attempt modified to account for yards lost due to sacks.\n",
        "11. 4QC (Fourth quarter comebacks), GWD (Game-winning drives) - Fourth quarter comebacks and game-winning drives (won on the last possession) led by a quarterback. Usually used more informally to describe how \"clutch\" a quarterback is, and is potentially a tie-breaker between two quarterbacks with comparable stats.\n",
        "\n"
      ],
      "metadata": {
        "id": "DmhZYQSWkCU2"
      }
    },
    {
      "cell_type": "markdown",
      "source": [
        "These stats tend to be pretty telling as to how offensive skill players (quarterbacks, receivers, tight ends) performed either during a game or throughout a season. We will perform analysis on these metrics to gain further insight."
      ],
      "metadata": {
        "id": "nj6AGt394dFG"
      }
    },
    {
      "cell_type": "markdown",
      "source": [
        "# Data Processing and Analysis"
      ],
      "metadata": {
        "id": "1d2tRFPy5I0B"
      }
    },
    {
      "cell_type": "markdown",
      "source": [
        "**Receiving Performances by Team**"
      ],
      "metadata": {
        "id": "2fi7L2_N5PgD"
      }
    },
    {
      "cell_type": "markdown",
      "source": [
        "First, let's sort receiving stats by team, then visualize and contextualize them. We will look at key stats by each team to give context into the performance of their respective receiving corps."
      ],
      "metadata": {
        "id": "UjAOdnKZyvm3"
      }
    },
    {
      "cell_type": "code",
      "source": [
        "#importing relevant libraries\n",
        "import numpy as np\n",
        "from sklearn.linear_model import LinearRegression\n",
        "import matplotlib.pyplot as plt\n",
        "\n",
        "# building our list of teams\n",
        "teams = []\n",
        "\n",
        "for index, plyr in df_rec.iterrows():\n",
        "  if plyr[\"Tm\"] not in teams:\n",
        "    teams.append(plyr[\"Tm\"])\n",
        "\n",
        "# we remove players who played on multiple teams for clarity purposes\n",
        "teams.remove(\"2TM\")\n",
        "teams.remove(\"3TM\")\n",
        "\n",
        "# we will be storing relevant statistics per team in a dictionary\n",
        "numPlayers = dict.fromkeys(teams, 0)\n",
        "numWRTE = dict.fromkeys(teams, 0)\n",
        "totalAge = dict.fromkeys(teams, 0)\n",
        "totalTargets = dict.fromkeys(teams, 0)\n",
        "totalRec = dict.fromkeys(teams, 0)\n",
        "totalYards = dict.fromkeys(teams, 0)\n",
        "totalYpR = dict.fromkeys(teams, 0)\n",
        "totalYpG = dict.fromkeys(teams, 0)\n",
        "totalFmb = dict.fromkeys(teams, 0)\n",
        "avgAge = {}\n",
        "avgFmb = {}\n",
        "avgYpR = {}\n",
        "avgYpG = {}\n",
        "\n",
        "# building our dictionaries\n",
        "for index, plyr in df_rec.iterrows():\n",
        "  if plyr[\"Tm\"] in teams:\n",
        "    # for position specific relevant stats\n",
        "    if plyr[\"Pos\"] in ['WR', 'wr', 'TE', 'te', 'Te', 'Wr']:\n",
        "      numWRTE[plyr[\"Tm\"]] += 1\n",
        "      totalYpR[plyr[\"Tm\"]] += plyr[\"Y/R\"]\n",
        "      totalYpG[plyr[\"Tm\"]] += plyr[\"Y/G\"]\n",
        "    numPlayers[plyr[\"Tm\"]] += 1\n",
        "    totalAge[plyr[\"Tm\"]] += plyr[\"Age\"]\n",
        "    totalTargets[plyr[\"Tm\"]] += plyr[\"Tgt\"]\n",
        "    totalRec[plyr[\"Tm\"]] += plyr[\"Rec\"]\n",
        "    totalYards[plyr[\"Tm\"]] += plyr[\"Yds?\"]\n",
        "    totalFmb[plyr[\"Tm\"]] += plyr[\"Fmb\"]\n",
        "\n",
        "for tm in teams:\n",
        "  avgAge[tm] = totalAge[tm] / numPlayers[tm]\n",
        "  avgFmb[tm] = totalFmb[tm] / numPlayers[tm]\n",
        "  avgYpR[tm] = totalYpR[tm] / numWRTE[tm]\n",
        "  avgYpG[tm] = totalYpG[tm] / numWRTE[tm]\n",
        "\n",
        "# now we sort the stats by team in ascending order\n",
        "avgAge = {k: v for k, v in sorted(avgAge.items(), key=lambda item: item[1])}\n",
        "totalTargets = {k: v for k, v in sorted(totalTargets.items(), key=lambda item: item[1])}\n",
        "totalRec = {k: v for k, v in sorted(totalRec.items(), key=lambda item: item[1])}\n",
        "totalYards = {k: v for k, v in sorted(totalYards.items(), key=lambda item: item[1])}\n",
        "avgYpR = {k: v for k, v in sorted(avgYpR.items(), key=lambda item: item[1])}\n",
        "avgYpG = {k: v for k, v in sorted(avgYpG.items(), key=lambda item: item[1])}\n",
        "totalFmb = {k: v for k, v in sorted(totalFmb.items(), key=lambda item: item[1])}\n",
        "avgFmb = {k: v for k, v in sorted(avgFmb.items(), key=lambda item: item[1])}\n",
        "\n",
        "# print the results for visual clarity\n",
        "print(\"avgAge: \", avgAge)\n",
        "print(\"totalTargets: \", totalTargets)\n",
        "print(\"totalRec: \", totalRec)\n",
        "print(\"totalYards: \", totalYards)\n",
        "print(\"avgYpR: \", avgYpR)\n",
        "print(\"avgYpG: \", avgYpG)\n",
        "print(\"totalFmb: \", totalFmb)\n",
        "print(\"avgFmb: \", avgFmb)\n",
        "  "
      ],
      "metadata": {
        "colab": {
          "base_uri": "https://localhost:8080/"
        },
        "id": "cASWNyfC9j-n",
        "outputId": "abc153cc-2fd3-43d7-9d42-9526256ff2e3"
      },
      "execution_count": 98,
      "outputs": [
        {
          "output_type": "stream",
          "name": "stdout",
          "text": [
            "avgAge:  {'DEN': 24.714285714285715, 'DET': 24.72222222222222, 'PIT': 24.733333333333334, 'CAR': 24.857142857142858, 'CIN': 25.066666666666666, 'PHI': 25.071428571428573, 'DAL': 25.285714285714285, 'CLE': 25.285714285714285, 'IND': 25.4, 'SEA': 25.428571428571427, 'LAC': 25.466666666666665, 'SFO': 25.615384615384617, 'WAS': 25.6875, 'LAR': 25.727272727272727, 'NYG': 25.75, 'ARI': 25.785714285714285, 'TEN': 25.8, 'NYJ': 25.8, 'LVR': 25.857142857142858, 'NWE': 25.857142857142858, 'MIN': 25.923076923076923, 'BAL': 25.933333333333334, 'MIA': 26.0, 'CHI': 26.384615384615383, 'NOR': 26.42105263157895, 'BUF': 26.666666666666668, 'GNB': 26.72222222222222, 'ATL': 26.733333333333334, 'TAM': 26.875, 'JAX': 27.0, 'KAN': 27.25, 'HOU': 27.357142857142858}\n",
            "totalTargets:  {'PHI': 435, 'NOR': 446, 'CLE': 465, 'SEA': 473, 'HOU': 475, 'ARI': 489, 'SFO': 491, 'CAR': 502, 'IND': 502, 'TEN': 505, 'CHI': 507, 'DEN': 513, 'DET': 521, 'NWE': 524, 'JAX': 529, 'WAS': 534, 'LAR': 539, 'CIN': 540, 'ATL': 551, 'NYG': 563, 'GNB': 570, 'MIN': 573, 'LVR': 579, 'NYJ': 579, 'BAL': 588, 'MIA': 596, 'BUF': 622, 'KAN': 637, 'DAL': 637, 'PIT': 652, 'LAC': 657, 'TAM': 711}\n",
            "totalRec:  {'NOR': 271, 'PHI': 289, 'CAR': 302, 'CLE': 303, 'SEA': 323, 'CHI': 323, 'IND': 324, 'HOU': 325, 'JAX': 329, 'SFO': 343, 'TEN': 345, 'NYG': 351, 'DEN': 354, 'WAS': 356, 'NYJ': 357, 'ARI': 359, 'NWE': 364, 'LAR': 371, 'DET': 373, 'ATL': 376, 'CIN': 384, 'MIN': 395, 'BAL': 395, 'MIA': 401, 'GNB': 402, 'LVR': 414, 'BUF': 415, 'PIT': 424, 'LAC': 443, 'DAL': 444, 'KAN': 448, 'TAM': 488}\n",
            "totalYards:  {'CAR': 3196, 'NOR': 3291, 'JAX': 3324, 'HOU': 3342, 'CLE': 3376, 'PHI': 3396, 'NYG': 3463, 'CHI': 3496, 'DET': 3535, 'IND': 3588, 'TEN': 3647, 'WAS': 3746, 'SEA': 3812, 'DEN': 3856, 'MIA': 3935, 'NYJ': 3959, 'ATL': 3966, 'PIT': 4015, 'ARI': 4038, 'NWE': 4098, 'BAL': 4268, 'LAR': 4367, 'MIN': 4433, 'SFO': 4437, 'BUF': 4450, 'GNB': 4526, 'LVR': 4543, 'CIN': 4806, 'KAN': 4937, 'DAL': 4963, 'LAC': 5014, 'TAM': 5352}\n",
            "avgYpR:  {'ARI': 9.055555555555555, 'PIT': 9.37142857142857, 'BAL': 9.511111111111111, 'LVR': 9.785714285714286, 'KAN': 10.049999999999999, 'CIN': 10.475, 'CAR': 10.6, 'ATL': 10.757142857142856, 'MIA': 10.790909090909091, 'WAS': 10.93, 'DET': 11.071428571428571, 'JAX': 11.09, 'HOU': 11.344444444444445, 'BUF': 11.350000000000001, 'TEN': 11.355555555555556, 'NYG': 11.39, 'DAL': 11.462499999999999, 'CHI': 11.837500000000002, 'PHI': 12.0, 'SEA': 12.06, 'LAR': 12.066666666666665, 'LAC': 12.088888888888889, 'NWE': 12.299999999999999, 'NYJ': 12.409999999999998, 'GNB': 12.489999999999998, 'CLE': 12.666666666666666, 'TAM': 12.7, 'SFO': 12.928571428571429, 'IND': 13.25, 'MIN': 13.633333333333333, 'NOR': 13.975, 'DEN': 13.97777777777778}\n",
            "avgYpG:  {'NOR': 18.333333333333336, 'WAS': 20.78, 'HOU': 21.655555555555555, 'MIA': 22.063636363636363, 'CLE': 22.733333333333334, 'NYG': 23.09, 'PHI': 24.428571428571427, 'CHI': 24.6625, 'CAR': 25.133333333333336, 'JAX': 25.229999999999997, 'NYJ': 25.99, 'TEN': 26.033333333333335, 'BAL': 26.68888888888889, 'GNB': 26.880000000000003, 'ARI': 28.366666666666664, 'DEN': 28.78888888888889, 'IND': 29.41666666666666, 'PIT': 29.771428571428572, 'NWE': 30.38571428571429, 'KAN': 30.4125, 'DET': 30.485714285714288, 'LVR': 30.542857142857144, 'BUF': 31.337500000000002, 'LAC': 31.35555555555556, 'CIN': 32.11250000000001, 'SFO': 32.885714285714286, 'ATL': 33.31428571428572, 'SEA': 33.660000000000004, 'DAL': 35.0125, 'MIN': 40.21666666666666, 'TAM': 42.31428571428571, 'LAR': 45.61666666666667}\n",
            "totalFmb:  {'LAR': 3, 'CAR': 3, 'CHI': 4, 'MIA': 5, 'DET': 5, 'CIN': 6, 'TAM': 6, 'ARI': 6, 'PIT': 7, 'DAL': 7, 'HOU': 7, 'NOR': 7, 'BAL': 8, 'SEA': 8, 'LAC': 8, 'PHI': 8, 'NYJ': 8, 'MIN': 9, 'KAN': 10, 'IND': 10, 'JAX': 10, 'DEN': 11, 'SFO': 12, 'ATL': 12, 'CLE': 12, 'BUF': 13, 'LVR': 13, 'NWE': 13, 'NYG': 13, 'GNB': 14, 'TEN': 14, 'WAS': 20}\n",
            "avgFmb:  {'CAR': 0.21428571428571427, 'MIA': 0.25, 'LAR': 0.2727272727272727, 'DET': 0.2777777777777778, 'CHI': 0.3076923076923077, 'NOR': 0.3684210526315789, 'TAM': 0.375, 'CIN': 0.4, 'NYJ': 0.4, 'ARI': 0.42857142857142855, 'PIT': 0.4666666666666667, 'DAL': 0.5, 'HOU': 0.5, 'BAL': 0.5333333333333333, 'LAC': 0.5333333333333333, 'SEA': 0.5714285714285714, 'PHI': 0.5714285714285714, 'KAN': 0.625, 'NYG': 0.65, 'IND': 0.6666666666666666, 'MIN': 0.6923076923076923, 'TEN': 0.7, 'JAX': 0.7142857142857143, 'GNB': 0.7777777777777778, 'DEN': 0.7857142857142857, 'ATL': 0.8, 'CLE': 0.8571428571428571, 'SFO': 0.9230769230769231, 'LVR': 0.9285714285714286, 'NWE': 0.9285714285714286, 'BUF': 1.0833333333333333, 'WAS': 1.25}\n"
          ]
        }
      ]
    },
    {
      "cell_type": "code",
      "source": [
        "# now we construct our bar charts, the first will be average age by team\n",
        "fig = plt.figure(figsize = (19, 10))\n",
        "plt.bar(list(avgAge.keys()), list(avgAge.values()), color ='orange', width = 0.4) # orange since Denver is the youngest!\n",
        "plt.xlabel(\"Team\")\n",
        "plt.ylabel(\"Average Age of Receivers\")\n",
        "plt.title(\"Average Age of Receivers by NFL Teams\")\n",
        "plt.ylim(24, 28)\n",
        "plt.show()"
      ],
      "metadata": {
        "colab": {
          "base_uri": "https://localhost:8080/",
          "height": 621
        },
        "id": "HESORX8RR5fq",
        "outputId": "d4f0e5ca-2bde-4088-88e4-c2712c68b145"
      },
      "execution_count": 99,
      "outputs": [
        {
          "output_type": "display_data",
          "data": {
            "text/plain": [
              "<Figure size 1368x720 with 1 Axes>"
            ],
            "image/png": "[encoded data removed]"
          },
          "metadata": {
            "needs_background": "light"
          }
        }
      ]
    },
    {
      "cell_type": "markdown",
      "source": [
        "As we can see, Denver, Detroit, and Pittsburgh are all very close to each other, and are among the youngest receiving corps in the NFL. This bodes well for their long term future as they attempt to contend for the playoffs and the Super Bowl. On the other hand, Jacksonville, Kansas City, and Houston have some of the oldest receiving corps in the NFL. With Jacksonville and Houston being rebuilding teams, this does not reflect well for their futures."
      ],
      "metadata": {
        "id": "BRVT_StNWYI1"
      }
    },
    {
      "cell_type": "code",
      "source": [
        "# bar chart for total targets\n",
        "fig = plt.figure(figsize = (19, 10))\n",
        "plt.bar(list(totalTargets.keys()), list(totalTargets.values()), color ='darkgreen', width = 0.4) # for philly\n",
        "plt.xlabel(\"Team\")\n",
        "plt.ylabel(\"Total Targets\")\n",
        "plt.title(\"Total Number of Targets by NFL Teams\")\n",
        "plt.ylim(400,800)\n",
        "plt.show()"
      ],
      "metadata": {
        "colab": {
          "base_uri": "https://localhost:8080/",
          "height": 621
        },
        "id": "oeSuqRvyXES1",
        "outputId": "6853f105-ab14-4800-9e2d-274cea89cabf"
      },
      "execution_count": 100,
      "outputs": [
        {
          "output_type": "display_data",
          "data": {
            "text/plain": [
              "<Figure size 1368x720 with 1 Axes>"
            ],
            "image/png": "[encoded data removed]"
          },
          "metadata": {
            "needs_background": "light"
          }
        }
      ]
    },
    {
      "cell_type": "markdown",
      "source": [
        "Philly had the fewest total targets for their receivers, which makes sense, as they had a very run-oriented offense in 2021 led by Jalen Hurts. On the other hand, it also makes sense that Tampa Bay leads in total targets for their receivers, as they have numerous talented receivers for Tom Brady to throw the ball to."
      ],
      "metadata": {
        "id": "bFWIEbluZBfJ"
      }
    },
    {
      "cell_type": "code",
      "source": [
        "# total receptions\n",
        "fig = plt.figure(figsize = (19, 10))\n",
        "plt.bar(list(totalRec.keys()), list(totalRec.values()), color ='khaki', width = 0.4) # for New Orleans\n",
        "plt.xlabel(\"Team\")\n",
        "plt.ylabel(\"Total Receptions by Receivers\")\n",
        "plt.title(\"Total Receptions by Receivers by NFL Teams\")\n",
        "plt.ylim(200, 500)\n",
        "plt.show()"
      ],
      "metadata": {
        "colab": {
          "base_uri": "https://localhost:8080/",
          "height": 621
        },
        "id": "yqkGTD_gZbOl",
        "outputId": "de493576-6f51-472e-eed9-f634bf2869ee"
      },
      "execution_count": 101,
      "outputs": [
        {
          "output_type": "display_data",
          "data": {
            "text/plain": [
              "<Figure size 1368x720 with 1 Axes>"
            ],
            "image/png": "[encoded data removed]"
          },
          "metadata": {
            "needs_background": "light"
          }
        }
      ]
    },
    {
      "cell_type": "markdown",
      "source": [
        "Unsurprisingly, this graph looks fairly similar to that of the total targets. Interestingly, however, is that while ahead of Philadelphia in total targets, New Orlean's receivers have fewer total receptions. This may suggest that either New Orleans's receivers are worse at catching the ball, or that their quarterback was less accurate."
      ],
      "metadata": {
        "id": "dVTwjYjWbylu"
      }
    },
    {
      "cell_type": "code",
      "source": [
        "# total receiving yards\n",
        "fig = plt.figure(figsize = (19, 10))\n",
        "plt.bar(list(totalYards.keys()), list(totalYards.values()), color ='deepskyblue', width = 0.4) # for Carolina\n",
        "plt.xlabel(\"Team\")\n",
        "plt.ylabel(\"Total Receiving Yards\")\n",
        "plt.title(\"Total Receiving Yards by NFL Teams\")\n",
        "plt.ylim(2500, 5500)\n",
        "plt.show()"
      ],
      "metadata": {
        "colab": {
          "base_uri": "https://localhost:8080/",
          "height": 621
        },
        "id": "_h0rkEFScUl8",
        "outputId": "d2ac9dde-ce26-4a99-d245-5b1185d6ca78"
      },
      "execution_count": 102,
      "outputs": [
        {
          "output_type": "display_data",
          "data": {
            "text/plain": [
              "<Figure size 1368x720 with 1 Axes>"
            ],
            "image/png": "[encoded data removed]"
          },
          "metadata": {
            "needs_background": "light"
          }
        }
      ]
    },
    {
      "cell_type": "markdown",
      "source": [
        "Interestingly, Carolina ranked at the bottom of the league for total receiving yards. This was likely due to the instability at quarterback that they suffered during the 2021 season, lacking a consistent starter. On the other side, we see Tampa Bay once again lead in receiving yards. This can likely be attributed to their quarterback situation being diametrically opposed to that of Carolina; they have Tom Brady, considered to be the greatest of all time, at the helm."
      ],
      "metadata": {
        "id": "BazQyTU8didM"
      }
    },
    {
      "cell_type": "code",
      "source": [
        "# average yards/reception\n",
        "fig = plt.figure(figsize = (19, 10))\n",
        "plt.bar(list(avgYpR.keys()), list(avgYpR.values()), color ='red', width = 0.4) # for Arizona\n",
        "plt.xlabel(\"Team\")\n",
        "plt.ylabel(\"Average Yards per Receptions\")\n",
        "plt.title(\"Average Yards per Reception by NFL Teams\")\n",
        "plt.ylim(0, 15)\n",
        "plt.show()"
      ],
      "metadata": {
        "colab": {
          "base_uri": "https://localhost:8080/",
          "height": 621
        },
        "id": "ouMbGml3eE11",
        "outputId": "376f9e22-f4de-415a-ae9e-513e0fb42b57"
      },
      "execution_count": 106,
      "outputs": [
        {
          "output_type": "display_data",
          "data": {
            "text/plain": [
              "<Figure size 1368x720 with 1 Axes>"
            ],
            "image/png": "[encoded data removed]"
          },
          "metadata": {
            "needs_background": "light"
          }
        }
      ]
    },
    {
      "cell_type": "markdown",
      "source": [
        "Interestingly, Arizona is the lowest on average yards per reception, despite being considered to have a \"high flying offense\". Also surprising is that Denver is on top, despite inconsistencies at quarterback."
      ],
      "metadata": {
        "id": "hL3bCiPwftFL"
      }
    },
    {
      "cell_type": "code",
      "source": [
        "# average yards/game\n",
        "fig = plt.figure(figsize = (19, 10))\n",
        "plt.bar(list(avgYpG.keys()), list(avgYpG.values()), color ='khaki', width = 0.4) # for New Orleans\n",
        "plt.xlabel(\"Team\")\n",
        "plt.ylabel(\"Average Receiving Yards per Game\")\n",
        "plt.title(\"Average Receiving Yards per Game by NFL Teams' Receivers\")\n",
        "plt.ylim(0, 60)\n",
        "plt.show()"
      ],
      "metadata": {
        "colab": {
          "base_uri": "https://localhost:8080/",
          "height": 621
        },
        "id": "vOBS8csXgles",
        "outputId": "bde8bbc8-86bf-4bcf-ad3c-029bd614ef98"
      },
      "execution_count": 105,
      "outputs": [
        {
          "output_type": "display_data",
          "data": {
            "text/plain": [
              "<Figure size 1368x720 with 1 Axes>"
            ],
            "image/png": "[encoded data removed]"
          },
          "metadata": {
            "needs_background": "light"
          }
        }
      ]
    },
    {
      "cell_type": "markdown",
      "source": [
        "Once again, we see New Orleans be the worst in a receiving category. The Rams, with a top receiving corps, is the highest."
      ],
      "metadata": {
        "id": "KjBzuC6dhDUn"
      }
    },
    {
      "cell_type": "code",
      "source": [
        "# total fumbles\n",
        "fig = plt.figure(figsize = (19, 10))\n",
        "plt.bar(list(totalFmb.keys()), list(totalFmb.values()), color ='blue', width = 0.4) # for LA Rams\n",
        "plt.xlabel(\"Team\")\n",
        "plt.ylabel(\"Total Fumbles\")\n",
        "plt.title(\"Total Fumbles by NFL Teams' Receivers\")\n",
        "plt.ylim(0, 25)\n",
        "plt.show()"
      ],
      "metadata": {
        "colab": {
          "base_uri": "https://localhost:8080/",
          "height": 621
        },
        "id": "yBPES08shOxq",
        "outputId": "0e4d6bad-32e9-4a78-b493-26e5496b5e70"
      },
      "execution_count": 10,
      "outputs": [
        {
          "output_type": "display_data",
          "data": {
            "text/plain": [
              "<Figure size 1368x720 with 1 Axes>"
            ],
            "image/png": "[encoded data removed]"
          },
          "metadata": {
            "needs_background": "light"
          }
        }
      ]
    },
    {
      "cell_type": "markdown",
      "source": [
        "We see the LA Rams and Carolina tied for the fewest total fumbles by receivers. Unfortunately, my favorite team, Washington has far and away the most total fumbles by receivers. This unfortunately corroborates what I observed on television."
      ],
      "metadata": {
        "id": "_QTI8Y-9h-Wy"
      }
    },
    {
      "cell_type": "code",
      "source": [
        "# average fumbles/receiver\n",
        "fig = plt.figure(figsize = (19, 10))\n",
        "plt.bar(list(avgFmb.keys()), list(avgFmb.values()), color ='deepskyblue', width = 0.4) # for Carolina\n",
        "plt.xlabel(\"Team\")\n",
        "plt.ylabel(\"Average Fumbles per Receiver\")\n",
        "plt.title(\"Average Fumbles per Receiver by NFL Teams\")\n",
        "plt.ylim(0, 2)\n",
        "plt.show()"
      ],
      "metadata": {
        "colab": {
          "base_uri": "https://localhost:8080/",
          "height": 621
        },
        "id": "SJCxQP-oi9rg",
        "outputId": "f9fcb648-8ad5-4859-a21e-1ed03a0e5066"
      },
      "execution_count": 11,
      "outputs": [
        {
          "output_type": "display_data",
          "data": {
            "text/plain": [
              "<Figure size 1368x720 with 1 Axes>"
            ],
            "image/png": "[encoded data removed]"
          },
          "metadata": {
            "needs_background": "light"
          }
        }
      ]
    },
    {
      "cell_type": "markdown",
      "source": [
        "Carolina has the lowest average number of fumbles per receiver. Unfortunately, Washington once again has the most by a good amount. Our players just need to hold onto the ball better!"
      ],
      "metadata": {
        "id": "iiHrTAdqjdlj"
      }
    },
    {
      "cell_type": "markdown",
      "source": [
        "**Quarterback Performance by Team**"
      ],
      "metadata": {
        "id": "mEnvlKfZ1gi8"
      }
    },
    {
      "cell_type": "markdown",
      "source": [
        "Next, let's chart each team's quarterback performances by looking at passing statistics. To better understand the stats of the receivers, let's examine who was throwing them the ball. We will be looking at QB performance in the context of games started, since as opposed to receivers, who come in and out for different plays, quarterbacks who start a game will typically play the whole game. Additionally, there tends to be a large dropoff in play from a starting QB to his backups. We will calculate average quarterback play in relevant statistical categories as a function of (games started) * (stat). There are limitations to this model, as sometimes a QB can start a game, but get injured during it, and have his backup play significant time, but these occurrences are an exception, and not the norm."
      ],
      "metadata": {
        "id": "AiZSPAds4T7E"
      }
    },
    {
      "cell_type": "code",
      "source": [
        "# we will be storing relevant statistics per team in a dictionary\n",
        "numPlayers = dict.fromkeys(teams, 0)\n",
        "totalAge = dict.fromkeys(teams, 0)\n",
        "totalAtt = dict.fromkeys(teams, 0)\n",
        "totalCmp = dict.fromkeys(teams, 0)\n",
        "totalCmpPc = dict.fromkeys(teams, 0)\n",
        "totalPYards = dict.fromkeys(teams, 0)\n",
        "totalPYpA = dict.fromkeys(teams, 0)\n",
        "totalPYpG = dict.fromkeys(teams, 0)\n",
        "totalSack = dict.fromkeys(teams, 0)\n",
        "totalQBR = dict.fromkeys(teams, 0)\n",
        "avgAge = {}\n",
        "avgSack = {}\n",
        "avgAtt = {}\n",
        "avgCmp = {}\n",
        "avgCmpPc = {}\n",
        "avgPYards = {}\n",
        "avgPYpA = {}\n",
        "avgPYpG = {}\n",
        "avgQBR = {}\n",
        "\n",
        "# building our dictionaries\n",
        "for index, plyr in df_pass.iterrows():\n",
        "  if plyr[\"Tm\"] in teams:\n",
        "    # looking at QB only b/c non-QBs heavily skew these stats inaccurately\n",
        "    if plyr[\"Pos\"] not in ['WR', 'wr', 'rb', 'RB', 'te', 'TE', 'p', 'k']:\n",
        "      numPlayers[plyr[\"Tm\"]] += 1\n",
        "      totalAge[plyr[\"Tm\"]] += plyr[\"Age\"]\n",
        "      totalAtt[plyr[\"Tm\"]] += plyr[\"Att\"] * plyr[\"GS\"]\n",
        "      totalCmp[plyr[\"Tm\"]] += plyr[\"Cmp\"] * plyr[\"GS\"]\n",
        "      totalCmpPc[plyr[\"Tm\"]] += plyr[\"Cmp%\"] * plyr[\"GS\"]\n",
        "      totalPYpA[plyr[\"Tm\"]] += plyr[\"Y/A\"] * plyr[\"GS\"]\n",
        "      totalPYpG[plyr[\"Tm\"]] += plyr[\"Y/G\"] * plyr[\"GS\"]\n",
        "    totalSack[plyr[\"Tm\"]] += plyr[\"Sk\"]\n",
        "    totalPYards[plyr[\"Tm\"]] += plyr[\"Yds\"] * plyr[\"GS\"]\n",
        "    # removing nan entries and non-QBs skewing average heavily\n",
        "    if pd.isnull(plyr[\"QBR\"]) == False and plyr[\"Pos\"] not in ['WR', 'wr', 'rb', 'RB', 'te', 'TE', 'p', 'k']:\n",
        "      totalQBR[plyr[\"Tm\"]] += plyr[\"QBR\"] * plyr[\"GS\"]\n",
        "\n",
        "# because stats are multiplied by games started, we divide by 17\n",
        "# 17 total games in a NFL season\n",
        "for tm in teams:\n",
        "  avgAge[tm] = totalAge[tm] / numPlayers[tm]\n",
        "  avgSack[tm] = totalSack[tm] / 17\n",
        "  avgAtt[tm] = totalAtt[tm] / 17\n",
        "  avgCmp[tm] = totalCmp[tm] / 17\n",
        "  avgCmpPc[tm] = totalCmpPc[tm] / 17\n",
        "  avgPYards[tm] = totalPYards[tm] / 17\n",
        "  avgPYpA[tm] = totalPYpA[tm] / 17\n",
        "  avgPYpG[tm] = totalPYpG[tm] / 17\n",
        "  avgQBR[tm] = totalQBR[tm] / 17\n",
        "\n",
        "# now we sort the stats by team in ascending order\n",
        "avgAge = {k: v for k, v in sorted(avgAge.items(), key=lambda item: item[1])}\n",
        "totalAtt = {k: v for k, v in sorted(totalAtt.items(), key=lambda item: item[1])}\n",
        "totalCmp = {k: v for k, v in sorted(totalCmp.items(), key=lambda item: item[1])}\n",
        "avgCmpPc = {k: v for k, v in sorted(avgCmpPc.items(), key=lambda item: item[1])}\n",
        "totalPYards = {k: v for k, v in sorted(totalPYards.items(), key=lambda item: item[1])}\n",
        "avgPYpA = {k: v for k, v in sorted(avgPYpA.items(), key=lambda item: item[1])}\n",
        "avgPYpG = {k: v for k, v in sorted(avgPYpG.items(), key=lambda item: item[1])}\n",
        "totalSack = {k: v for k, v in sorted(totalSack.items(), key=lambda item: item[1])}\n",
        "avgSack = {k: v for k, v in sorted(avgSack.items(), key=lambda item: item[1])}\n",
        "avgQBR = {k: v for k, v in sorted(avgQBR.items(), key=lambda item: item[1])}\n",
        "\n",
        "# print the results for visual clarity\n",
        "print(\"avgAge: \", avgAge)\n",
        "print(\"totalAtt: \", totalAtt)\n",
        "print(\"totalCmp: \", totalCmp)\n",
        "print(\"avgCmpPc: \", avgCmpPc)\n",
        "print(\"totalPYards: \", totalPYards)\n",
        "print(\"avgPYpA: \", avgPYpA)\n",
        "print(\"avgPYpG: \", avgPYpG)\n",
        "print(\"totalSack: \", totalSack)\n",
        "print(\"avgSack: \", avgSack)\n",
        "print(\"avgQBR: \", avgQBR)\n",
        "  "
      ],
      "metadata": {
        "colab": {
          "base_uri": "https://localhost:8080/"
        },
        "id": "C0_lozlAgp5s",
        "outputId": "aa0f94a0-f1f1-4a95-b72d-efd7c12fa040"
      },
      "execution_count": 107,
      "outputs": [
        {
          "output_type": "stream",
          "name": "stdout",
          "text": [
            "avgAge:  {'LAC': 23.0, 'BAL': 23.5, 'PHI': 24.666666666666668, 'JAX': 25.0, 'SFO': 25.5, 'BUF': 26.0, 'MIA': 26.0, 'DET': 26.333333333333332, 'DEN': 26.333333333333332, 'IND': 26.5, 'NYG': 26.6, 'CIN': 27.0, 'CAR': 27.333333333333332, 'NOR': 27.75, 'MIN': 28.0, 'DAL': 28.0, 'ATL': 28.0, 'NYJ': 28.0, 'CLE': 28.333333333333332, 'LVR': 29.0, 'ARI': 29.0, 'CHI': 29.333333333333332, 'NWE': 29.5, 'LAR': 30.0, 'HOU': 30.333333333333332, 'GNB': 30.5, 'WAS': 30.5, 'KAN': 31.0, 'TEN': 31.0, 'SEA': 32.0, 'PIT': 32.5, 'TAM': 38.0}\n",
            "totalAtt:  {'NOR': 3105, 'CHI': 4151, 'NYG': 4759, 'CAR': 5162, 'HOU': 5234, 'BAL': 5336, 'NYJ': 5417, 'MIA': 5781, 'SEA': 5885, 'CLE': 6026, 'DEN': 6297, 'PHI': 6600, 'SFO': 6757, 'ARI': 7031, 'DET': 7198, 'WAS': 7447, 'CIN': 8354, 'GNB': 8558, 'IND': 8772, 'NWE': 8857, 'MIN': 9012, 'TEN': 9027, 'ATL': 9520, 'DAL': 9583, 'PIT': 9738, 'LAR': 10217, 'JAX': 10234, 'LVR': 10642, 'BUF': 10982, 'KAN': 11186, 'LAC': 11424, 'TAM': 12223}\n",
            "totalCmp:  {'NOR': 1811, 'CHI': 2508, 'NYG': 2966, 'CAR': 3054, 'NYJ': 3060, 'HOU': 3439, 'BAL': 3440, 'CLE': 3656, 'SEA': 3821, 'MIA': 3861, 'PHI': 4057, 'DEN': 4191, 'SFO': 4597, 'DET': 4831, 'WAS': 4838, 'ARI': 4884, 'IND': 5474, 'CIN': 5873, 'GNB': 5892, 'MIN': 5974, 'NWE': 5984, 'TEN': 6069, 'JAX': 6103, 'PIT': 6275, 'ATL': 6375, 'DAL': 6590, 'LAR': 6868, 'BUF': 6953, 'LVR': 7276, 'KAN': 7412, 'LAC': 7531, 'TAM': 8245}\n",
            "avgCmpPc:  {'NYJ': 58.07058823529412, 'CAR': 58.08235294117647, 'NYG': 59.58235294117647, 'JAX': 59.6, 'BAL': 60.72941176470589, 'CHI': 60.95294117647059, 'CLE': 61.42941176470588, 'PHI': 62.1235294117647, 'IND': 62.4, 'BUF': 63.3, 'WAS': 64.08823529411765, 'PIT': 64.25294117647059, 'HOU': 64.6470588235294, 'SEA': 65.43529411764705, 'DEN': 65.7529411764706, 'LAC': 65.9, 'MIN': 65.99411764705881, 'KAN': 66.3, 'MIA': 66.3, 'DET': 66.79411764705883, 'ATL': 67.0, 'SFO': 67.0529411764706, 'LAR': 67.2, 'TEN': 67.2, 'TAM': 67.5, 'NWE': 67.6, 'GNB': 68.26470588235294, 'LVR': 68.4, 'DAL': 68.50588235294117, 'CIN': 69.2, 'ARI': 70.17058823529412, 'NOR': 72.14117647058823}\n",
            "totalPYards:  {'NOR': 21743, 'CHI': 28040, 'NYG': 30364, 'CAR': 31579, 'NYJ': 33539, 'HOU': 35100, 'MIA': 38251, 'BAL': 38908, 'CLE': 43211, 'DEN': 45346, 'SEA': 45688, 'DET': 47008, 'PHI': 48038, 'WAS': 51492, 'ARI': 55601, 'SFO': 58716, 'PIT': 60117, 'IND': 60571, 'JAX': 61897, 'TEN': 63518, 'NWE': 65462, 'GNB': 66251, 'ATL': 67456, 'MIN': 68320, 'DAL': 72026, 'CIN': 74385, 'BUF': 74919, 'LVR': 81668, 'KAN': 82263, 'LAR': 83062, 'LAC': 85238, 'TAM': 90372}\n",
            "avgPYpA:  {'NYG': 5.852941176470588, 'CAR': 5.923529411764706, 'JAX': 6.0, 'PIT': 6.117647058823529, 'NYJ': 6.405882352941177, 'DET': 6.423529411764705, 'MIA': 6.476470588235294, 'WAS': 6.588235294117647, 'BAL': 6.658823529411765, 'HOU': 6.658823529411765, 'CHI': 6.735294117647059, 'BUF': 6.8, 'IND': 6.9, 'CLE': 6.970588235294118, 'TEN': 7.0, 'ATL': 7.1, 'DEN': 7.18235294117647, 'PHI': 7.3, 'NWE': 7.3, 'MIN': 7.370588235294117, 'KAN': 7.4, 'TAM': 7.4, 'LAC': 7.5, 'DAL': 7.588235294117647, 'GNB': 7.635294117647059, 'LVR': 7.7, 'SEA': 7.729411764705882, 'ARI': 7.829411764705884, 'LAR': 8.1, 'SFO': 8.588235294117647, 'CIN': 8.63529411764706, 'NOR': 8.705882352941176}\n",
            "avgPYpG:  {'NOR': 165.14117647058825, 'CAR': 165.6764705882353, 'CHI': 173.20000000000002, 'MIA': 178.36470588235292, 'NYG': 182.02941176470588, 'NYJ': 189.25882352941176, 'HOU': 189.40588235294118, 'CLE': 193.47058823529412, 'PHI': 197.85882352941175, 'WAS': 200.73529411764707, 'DEN': 202.68235294117648, 'BAL': 205.88235294117644, 'DET': 209.45882352941177, 'IND': 209.6, 'SEA': 214.1235294117647, 'JAX': 214.2, 'TEN': 219.6, 'NWE': 223.6, 'PIT': 228.19411764705885, 'ATL': 233.4, 'SFO': 235.94117647058823, 'ARI': 239.08823529411765, 'GNB': 246.1, 'BUF': 259.2, 'MIN': 259.40000000000003, 'DAL': 266.70588235294116, 'CIN': 272.70588235294116, 'LVR': 282.6, 'KAN': 284.6, 'LAR': 287.4, 'LAC': 294.9, 'TAM': 312.7}\n",
            "totalSack:  {'TAM': 23, 'BUF': 26, 'KAN': 28, 'NWE': 28, 'MIN': 30, 'LAR': 31, 'LAC': 31, 'PHI': 31, 'IND': 32, 'JAX': 32, 'GNB': 33, 'SFO': 33, 'DAL': 33, 'DET': 35, 'NOR': 37, 'PIT': 38, 'NYG': 38, 'ARI': 39, 'LVR': 40, 'ATL': 40, 'MIA': 40, 'DEN': 40, 'WAS': 43, 'HOU': 44, 'SEA': 46, 'TEN': 47, 'CLE': 48, 'NYJ': 50, 'CAR': 52, 'CIN': 55, 'BAL': 56, 'CHI': 58}\n",
            "avgSack:  {'TAM': 1.3529411764705883, 'BUF': 1.5294117647058822, 'KAN': 1.6470588235294117, 'NWE': 1.6470588235294117, 'MIN': 1.7647058823529411, 'LAR': 1.8235294117647058, 'LAC': 1.8235294117647058, 'PHI': 1.8235294117647058, 'IND': 1.8823529411764706, 'JAX': 1.8823529411764706, 'GNB': 1.9411764705882353, 'SFO': 1.9411764705882353, 'DAL': 1.9411764705882353, 'DET': 2.0588235294117645, 'NOR': 2.176470588235294, 'PIT': 2.235294117647059, 'NYG': 2.235294117647059, 'ARI': 2.2941176470588234, 'LVR': 2.3529411764705883, 'ATL': 2.3529411764705883, 'MIA': 2.3529411764705883, 'DEN': 2.3529411764705883, 'WAS': 2.5294117647058822, 'HOU': 2.588235294117647, 'SEA': 2.7058823529411766, 'TEN': 2.764705882352941, 'CLE': 2.823529411764706, 'NYJ': 2.9411764705882355, 'CAR': 3.0588235294117645, 'CIN': 3.235294117647059, 'BAL': 3.2941176470588234, 'CHI': 3.411764705882353}\n",
            "avgQBR:  {'CHI': 30.07058823529412, 'CAR': 30.11764705882353, 'NYG': 31.46470588235294, 'NYJ': 33.035294117647055, 'JAX': 33.5, 'PIT': 35.82941176470588, 'DET': 37.188235294117646, 'HOU': 37.22941176470588, 'WAS': 37.67058823529412, 'CLE': 37.811764705882354, 'DEN': 43.16470588235294, 'ATL': 46.1, 'BAL': 47.31764705882353, 'MIA': 49.25882352941177, 'PHI': 49.92352941176471, 'NWE': 50.9, 'SFO': 50.95882352941176, 'MIN': 51.19411764705882, 'CIN': 51.599999999999994, 'LVR': 52.4, 'SEA': 53.129411764705885, 'DAL': 53.84705882352941, 'IND': 54.7, 'TEN': 55.9, 'ARI': 56.805882352941175, 'NOR': 57.50000000000001, 'BUF': 60.7, 'KAN': 62.2, 'LAR': 63.8, 'LAC': 65.6, 'GNB': 66.88235294117646, 'TAM': 68.1}\n"
          ]
        }
      ]
    },
    {
      "cell_type": "markdown",
      "source": [
        "Not all of these statistics will be used in our analysis, but they are all important statistics to evaluate quarterback performance and overall passing offense. "
      ],
      "metadata": {
        "id": "fgC6Az6Nv5t1"
      }
    },
    {
      "cell_type": "code",
      "source": [
        "# average QB age by team\n",
        "fig = plt.figure(figsize = (19, 10))\n",
        "plt.bar(list(avgAge.keys()), list(avgAge.values()), color ='lightblue', width = 0.4) # for LA Chargers\n",
        "plt.xlabel(\"Team\")\n",
        "plt.ylabel(\"Average Age of Quarterbacks\")\n",
        "plt.title(\"Average Age of Quarterbacks by NFL Teams\")\n",
        "plt.ylim(20, 40)\n",
        "plt.show()"
      ],
      "metadata": {
        "colab": {
          "base_uri": "https://localhost:8080/",
          "height": 621
        },
        "id": "YdywxH9LxNGh",
        "outputId": "7740fc73-e80a-4d15-e91c-46d1f1bfdc27"
      },
      "execution_count": 108,
      "outputs": [
        {
          "output_type": "display_data",
          "data": {
            "text/plain": [
              "<Figure size 1368x720 with 1 Axes>"
            ],
            "image/png": "[encoded data removed]"
          },
          "metadata": {
            "needs_background": "light"
          }
        }
      ]
    },
    {
      "cell_type": "markdown",
      "source": [
        "Nothing too surprising here. Interestingly, the LA Chargers are the youngest in terms of quarterbacks. This may be due to their emerging, second-year quarterback in Justin Herbert. Unsurprisingly, Tampa Bay is by far the oldest, due to the ageless wonder and anomaly, Tom Brady, who is playing at a MVP level well into his 40s at a position where most quarterbacks decline in their mid-30s."
      ],
      "metadata": {
        "id": "-T92iTghx06e"
      }
    },
    {
      "cell_type": "code",
      "source": [
        "# average completion percentage by team\n",
        "fig = plt.figure(figsize = (19, 10))\n",
        "plt.bar(list(avgCmpPc.keys()), list(avgCmpPc.values()), color ='green', width = 0.4) # for NY Jets\n",
        "plt.xlabel(\"Team\")\n",
        "plt.ylabel(\"Average Completion %\")\n",
        "plt.title(\"Average Completion Percentage by NFL Teams\")\n",
        "plt.ylim(50, 80)\n",
        "plt.show()"
      ],
      "metadata": {
        "colab": {
          "base_uri": "https://localhost:8080/",
          "height": 621
        },
        "id": "lLw5FHqNzCur",
        "outputId": "93be69cf-92bc-4d0a-ab4f-bc0bb1455b59"
      },
      "execution_count": 37,
      "outputs": [
        {
          "output_type": "display_data",
          "data": {
            "text/plain": [
              "<Figure size 1368x720 with 1 Axes>"
            ],
            "image/png": "[encoded data removed]"
          },
          "metadata": {
            "needs_background": "light"
          }
        }
      ]
    },
    {
      "cell_type": "markdown",
      "source": [
        "Unsurprisingly, we see the New York Jets and Carolina at the bottom of the list in average completion percentage. The Jets had a struggling rookie at QB in Zach Wilson, while Carolina had inconsistent QB play throughout the season. Surprisingly, however, New Orleans leads in average completion percentage. Perhaps this is due to their run-heavy offense that protects their quarterbacks and gives them fewer opportunities to misfire."
      ],
      "metadata": {
        "id": "gwrKteI_0DEl"
      }
    },
    {
      "cell_type": "code",
      "source": [
        "# average passing yards per game by team\n",
        "fig = plt.figure(figsize = (19, 10))\n",
        "plt.bar(list(avgPYpG.keys()), list(avgPYpG.values()), color ='khaki', width = 0.4) # for New Orleans\n",
        "plt.xlabel(\"Team\")\n",
        "plt.ylabel(\"Average Passing Yards per Game\")\n",
        "plt.title(\"Average Passing Yards per Game by NFL Teams\")\n",
        "plt.ylim(100, 400)\n",
        "plt.show()"
      ],
      "metadata": {
        "colab": {
          "base_uri": "https://localhost:8080/",
          "height": 621
        },
        "id": "aoDPKn5z0jJo",
        "outputId": "58e8e6b8-b34a-4946-c5fb-c2a61d2a99b8"
      },
      "execution_count": 34,
      "outputs": [
        {
          "output_type": "display_data",
          "data": {
            "text/plain": [
              "<Figure size 1368x720 with 1 Axes>"
            ],
            "image/png": "[encoded data removed]"
          },
          "metadata": {
            "needs_background": "light"
          }
        }
      ]
    },
    {
      "cell_type": "markdown",
      "source": [
        "Unsurprisingly, we once again see New Orleans at the bottom for passing yards per game. They leaned heavily on their run game and gadget plays to produce offense, when they could produce offense. Tampa Bay's high flying offense unsurprisingly landed them back on the top of the list."
      ],
      "metadata": {
        "id": "KuENotJX1MMI"
      }
    },
    {
      "cell_type": "code",
      "source": [
        "# total sacks by team\n",
        "fig = plt.figure(figsize = (19, 10))\n",
        "plt.bar(list(totalSack.keys()), list(totalSack.values()), color ='red', width = 0.4) # for Tampa Bay\n",
        "plt.xlabel(\"Team\")\n",
        "plt.ylabel(\"Total Sacks\")\n",
        "plt.title(\"Total Sacks by NFL Teams\")\n",
        "plt.ylim(0, 80)\n",
        "plt.show()"
      ],
      "metadata": {
        "colab": {
          "base_uri": "https://localhost:8080/",
          "height": 621
        },
        "id": "URDgQZ3Z3STC",
        "outputId": "048353aa-6fbc-4b0a-ed86-58305c553db8"
      },
      "execution_count": 46,
      "outputs": [
        {
          "output_type": "display_data",
          "data": {
            "text/plain": [
              "<Figure size 1368x720 with 1 Axes>"
            ],
            "image/png": "[encoded data removed]"
          },
          "metadata": {
            "needs_background": "light"
          }
        }
      ]
    },
    {
      "cell_type": "markdown",
      "source": [
        "Tampa Bay got sacked the fewest times of any team. Their offensive line is considered among the best in the league, and Tom Brady knows how to get rid of the ball quickly before he can get sacked. Chicago, on the other hand, led all teams. Their rookie quarterback, Justin Fields, doesn't have the experience to know how to avoid sacks, and his offensive line was considered among the worst in the league."
      ],
      "metadata": {
        "id": "JgffEu7s4gW2"
      }
    },
    {
      "cell_type": "code",
      "source": [
        "# average QBR by team\n",
        "fig = plt.figure(figsize = (19, 10))\n",
        "plt.bar(list(avgQBR.keys()), list(avgQBR.values()), color ='orange', width = 0.4) # for Chicago\n",
        "plt.xlabel(\"Team\")\n",
        "plt.ylabel(\"Average QBR by Starters\")\n",
        "plt.title(\"Average QBR by NFL Teams' Starters\")\n",
        "plt.ylim(0, 100)\n",
        "plt.show()"
      ],
      "metadata": {
        "colab": {
          "base_uri": "https://localhost:8080/",
          "height": 621
        },
        "id": "2ZKccTnd47Mq",
        "outputId": "446568a3-8402-4343-b468-e822ea880d0d"
      },
      "execution_count": 50,
      "outputs": [
        {
          "output_type": "display_data",
          "data": {
            "text/plain": [
              "<Figure size 1368x720 with 1 Axes>"
            ],
            "image/png": "[encoded data removed]"
          },
          "metadata": {
            "needs_background": "light"
          }
        }
      ]
    },
    {
      "cell_type": "markdown",
      "source": [
        "Now for the \"juicy\" part. While it is not a perfect stat, QBR gives us a great insight into the passing performance of a quarterback. This will be the meat and potatoes of our further analysis into receving performances in context. Chicago had the lowest average QBR by starting quarterback due to the poor performances by Justin Fields and Andy Dalton. Tampa Bay, of course, had the highest average QBR due to having 17 games of Tom Brady."
      ],
      "metadata": {
        "id": "nzh7L-D_6PZ8"
      }
    },
    {
      "cell_type": "markdown",
      "source": [
        "# Data Processing and Analysis"
      ],
      "metadata": {
        "id": "1TifIaGS7E5V"
      }
    },
    {
      "cell_type": "markdown",
      "source": [
        "**Receiving Performances as a Function of Quarterback Rating**"
      ],
      "metadata": {
        "id": "KVdDgX6D7I4t"
      }
    },
    {
      "cell_type": "markdown",
      "source": [
        "Next, let's look at how receiving corps performed in response to their starting quarterbacks' performances, as measured by QBR."
      ],
      "metadata": {
        "id": "unV_Zpi07fbE"
      }
    },
    {
      "cell_type": "markdown",
      "source": [
        "**Least Squares Model**"
      ],
      "metadata": {
        "id": "AqwQqIHyEQta"
      }
    },
    {
      "cell_type": "code",
      "source": [
        "linear_regressor = LinearRegression()\n",
        "\n",
        "# sort rec yards and QBR by team name for regression\n",
        "totalYardsbyName = dict(sorted(totalYards.items()))\n",
        "avgQBRbyName = dict(sorted(avgQBR.items()))\n",
        "reg_x = np.array(list(avgQBRbyName.values())).reshape(-1,1)\n",
        "reg_y = np.array(list(totalYardsbyName.values())).reshape(-1,1)\n",
        "fit1 = linear_regressor.fit(reg_x, reg_y)\n",
        "y_pred = linear_regressor.predict(reg_x)\n",
        "\n",
        "# scatter plot plus regression line\n",
        "plt.figure(figsize = (19, 10))\n",
        "plt.scatter(reg_x, reg_y)\n",
        "for i in range(len(reg_x)): # add team names\n",
        "    plt.annotate(str(list(totalYardsbyName.keys())[i]), (reg_x[i] + 0.3, reg_y[i]))\n",
        "plt.plot(reg_x, y_pred, color=\"red\")\n",
        "plt.xlabel(\"Average QBR by Starter\")\n",
        "plt.ylabel(\"Total Receiving Yards\")\n",
        "plt.title(\"Average QBR by NFL Teams' Starters on Total Receiving Yards\")\n",
        "plt.show()"
      ],
      "metadata": {
        "colab": {
          "base_uri": "https://localhost:8080/",
          "height": 621
        },
        "id": "FehLPEEe7p7W",
        "outputId": "392bd6f1-c859-4f62-ac34-b088e36166f2"
      },
      "execution_count": 124,
      "outputs": [
        {
          "output_type": "display_data",
          "data": {
            "text/plain": [
              "<Figure size 1368x720 with 1 Axes>"
            ],
            "image/png": "[encoded data removed]"
          },
          "metadata": {
            "needs_background": "light"
          }
        }
      ]
    },
    {
      "cell_type": "markdown",
      "source": [
        "We use a OLS (Ordinary Least Squares) model here because we have relatively few features to regress. Unsurprisingly, we can see here that as QBR increases, so does their teams' receiving yards. Based on our model, we can see which teams's receivers overperformed (i.e. Tampa Bay, Dallas) or underperformed (i.e. Philly, New Orleans) their team's level of quarterback play as measured by QBR."
      ],
      "metadata": {
        "id": "dh7t8RcTEUwn"
      }
    },
    {
      "cell_type": "markdown",
      "source": [
        "Next, let's model and examine which receivers in particular outperformed their team's quarterback play by comparing residuals."
      ],
      "metadata": {
        "id": "Fh_fLcsGGRKO"
      }
    },
    {
      "cell_type": "code",
      "source": [
        "linear_regressor2 = LinearRegression()\n",
        "\n",
        "# sort rec yards and QBR by team name for regression\n",
        "avgYpGbyName = dict(sorted(avgYpG.items()))\n",
        "reg_y2 = np.array(list(avgYpG.values())).reshape(-1,1)\n",
        "fit2 = linear_regressor2.fit(reg_x, reg_y2)\n",
        "y2_pred = linear_regressor2.predict(reg_x)\n",
        "\n",
        "# scatter plot plus regression line\n",
        "plt.figure(figsize = (19, 10))\n",
        "plt.scatter(reg_x, reg_y2)\n",
        "for i in range(len(reg_x)): # add team names\n",
        "    plt.annotate(str(list(totalYardsbyName.keys())[i]), (reg_x[i] + 0.3, reg_y2[i]))\n",
        "plt.plot(reg_x, y2_pred, color=\"red\")\n",
        "plt.xlabel(\"Average QBR by Starter\")\n",
        "plt.ylabel(\"Average Receiving Yards/Game\")\n",
        "plt.title(\"Average QBR by NFL Teams' Starters on Average Receiving Yards/Game\")\n",
        "plt.show()"
      ],
      "metadata": {
        "colab": {
          "base_uri": "https://localhost:8080/",
          "height": 621
        },
        "id": "hFqqVRB1Hibg",
        "outputId": "85223d60-0f70-4890-b341-c5d4e7b4afbf"
      },
      "execution_count": 125,
      "outputs": [
        {
          "output_type": "display_data",
          "data": {
            "text/plain": [
              "<Figure size 1368x720 with 1 Axes>"
            ],
            "image/png": "[encoded data removed]"
          },
          "metadata": {
            "needs_background": "light"
          }
        }
      ]
    },
    {
      "cell_type": "code",
      "source": [
        "ydsAboveExp = {}\n",
        "\n",
        "# calculating residuals\n",
        "for index, plyr in df_rec.iterrows():\n",
        "  if plyr[\"Tm\"] in teams:\n",
        "    # we are interested in WRs and TEs only for this segment\n",
        "    if plyr[\"Pos\"] in ['WR', 'wr', 'TE', 'te', 'Te', 'Wr'] and pd.isnull(plyr[\"Pos\"]) == False:\n",
        "      lstQBR = [avgQBR[plyr[\"Tm\"]]]\n",
        "      tmQBR = np.array(lstQBR).reshape(-1,1)\n",
        "      ydsAboveExp[plyr[\"Player\"]] = plyr[\"Y/G\"] - linear_regressor2.predict(tmQBR)[0][0]\n",
        "\n",
        "# sorting our dictionary\n",
        "ydsAboveExp = {k: v for k, v in sorted(ydsAboveExp.items(), key=lambda item: item[1])}\n",
        "\n",
        "listYAE = list(ydsAboveExp.items())\n",
        "rvlistYAE = [i for i in listYAE]\n",
        "rvlistYAE.reverse()\n",
        "print(\"Top 10 Receivers in Yards/Game above Expected: \\n\")\n",
        "\n",
        "for i in range(10):\n",
        "  print(\"Name: \", rvlistYAE[i][0], \",\\n\\tYards/Game Above Expected: \", rvlistYAE[i][1])\n",
        "\n",
        "print(\"\\nBottom 10 Receivers in Yards/Game above Expected: \\n \")\n",
        "\n",
        "for i in range(10):\n",
        "  print(\"Name: \", listYAE[i][0], \",\\n\\tYards/Game Above Expected: \", listYAE[i][1])"
      ],
      "metadata": {
        "colab": {
          "base_uri": "https://localhost:8080/"
        },
        "id": "5YAx9yxKIRJN",
        "outputId": "af116353-a915-49bd-9635-96766f71b162"
      },
      "execution_count": 115,
      "outputs": [
        {
          "output_type": "stream",
          "name": "stdout",
          "text": [
            "Top 10 Receivers in Yards/Game above Expected: \n",
            "\n",
            "Name:  Cooper Kupp*+\\KuppCo00 ,\n",
            "\tYards/Game Above Expected:  84.71020284996231\n",
            "Name:  Davante Adams*+\\AdamDa01 ,\n",
            "\tYards/Game Above Expected:  67.16059156787173\n",
            "Name:  Justin Jefferson*\\JeffJu00 ,\n",
            "\tYards/Game Above Expected:  65.92206731087856\n",
            "Name:  Deebo Samuel*+\\SamuDe00 ,\n",
            "\tYards/Game Above Expected:  58.633488019435106\n",
            "Name:  Ja'Marr Chase*\\ChasJa00 ,\n",
            "\tYards/Game Above Expected:  56.40236658861855\n",
            "Name:  Mark Andrews*+\\AndrMa00 ,\n",
            "\tYards/Game Above Expected:  51.11022348434744\n",
            "Name:  Chris Godwin\\GodwCh00 ,\n",
            "\tYards/Game Above Expected:  48.80148940109167\n",
            "Name:  Tee Higgins\\HiggTe00 ,\n",
            "\tYards/Game Above Expected:  48.70236658861856\n",
            "Name:  Diontae Johnson*\\JohnDi01 ,\n",
            "\tYards/Game Above Expected:  44.167839579620164\n",
            "Name:  Tyler Lockett\\LockTy00 ,\n",
            "\tYards/Game Above Expected:  44.1281319830011\n",
            "\n",
            "Bottom 10 Receivers in Yards/Game above Expected: \n",
            " \n",
            "Name:  Darrell Daniels\\DaniDa02 ,\n",
            "\tYards/Game Above Expected:  -29.45031658819474\n",
            "Name:  Daniel Helm\\HelmDa01 ,\n",
            "\tYards/Game Above Expected:  -29.33646382047366\n",
            "Name:  Demetrius Harris\\HarrDe03 ,\n",
            "\tYards/Game Above Expected:  -28.750316588194742\n",
            "Name:  Stanley Morgan Jr.\\MorgSt02 ,\n",
            "\tYards/Game Above Expected:  -28.597633411381448\n",
            "Name:  Eric Tomlinson\\TomlEr01 ,\n",
            "\tYards/Game Above Expected:  -28.589776515652552\n",
            "Name:  Nick Boyle\\BoylNi00 ,\n",
            "\tYards/Game Above Expected:  -28.589776515652552\n",
            "Name:  Mitchell Wilcox\\WilcMi01 ,\n",
            "\tYards/Game Above Expected:  -28.097633411381448\n",
            "Name:  Cethan Carter\\CartCe00 ,\n",
            "\tYards/Game Above Expected:  -28.083997361243945\n",
            "Name:  Hunter Long\\LongHu00 ,\n",
            "\tYards/Game Above Expected:  -27.983997361243944\n",
            "Name:  Jake Kumerow\\KumeJa00 ,\n",
            "\tYards/Game Above Expected:  -27.739329314805364\n"
          ]
        }
      ]
    },
    {
      "cell_type": "markdown",
      "source": [
        "Based on our model, we have identified the 10 receivers/tight ends who overperformed and underperformed expectations based on their quarterbacks. Unsurprisingly, the top 10 are mostly current and former Pro-Bowl/All-Pro Selections (individual accolades given by NFL Players/Coaches and journalists respectively). See here for 2022 (for 2021 season) [Pro Bowl](https://www.nfl.com/pro-bowl/roster/) and [All-Pro Teams](https://www.nfl.com/news/2021-all-pro-team-jonathan-taylor-t-j-watt-cooper-kupp-highlight-roster). There are a couple surprising names like Tee Higgins and Tyler Lockett, however, who are not highly accomplished in terms of awards and/or not highly paid. Perhaps this model suggests that they are underrated. On the other hand, it's not surprising to see that the \"underperformers\" are mostly backups."
      ],
      "metadata": {
        "id": "mRTQcF53S7yV"
      }
    },
    {
      "cell_type": "markdown",
      "source": [
        "Further overperformers and underperformers based on the model will be listed below for further reference:"
      ],
      "metadata": {
        "id": "pB1jy4ixW2FP"
      }
    },
    {
      "cell_type": "code",
      "source": [
        "print(\"Top 50 Receivers in Yards/Game above Expected: \\n\")\n",
        "\n",
        "for i in range(50):\n",
        "  print(\"Name: \", rvlistYAE[i][0], \",\\n\\tYards/Game Above Expected: \", rvlistYAE[i][1])\n",
        "\n",
        "print(\"\\nBottom 50 Receivers in Yards/Game above Expected: \\n \")\n",
        "\n",
        "for i in range(50):\n",
        "  print(\"Name: \", listYAE[i][0], \",\\n\\tYards/Game Above Expected: \", listYAE[i][1])"
      ],
      "metadata": {
        "colab": {
          "base_uri": "https://localhost:8080/"
        },
        "id": "KcILJrfaXA_N",
        "outputId": "8be49d36-725f-40fa-e764-c18c2986c60c"
      },
      "execution_count": 116,
      "outputs": [
        {
          "output_type": "stream",
          "name": "stdout",
          "text": [
            "Top 50 Receivers in Yards/Game above Expected: \n",
            "\n",
            "Name:  Cooper Kupp*+\\KuppCo00 ,\n",
            "\tYards/Game Above Expected:  84.71020284996231\n",
            "Name:  Davante Adams*+\\AdamDa01 ,\n",
            "\tYards/Game Above Expected:  67.16059156787173\n",
            "Name:  Justin Jefferson*\\JeffJu00 ,\n",
            "\tYards/Game Above Expected:  65.92206731087856\n",
            "Name:  Deebo Samuel*+\\SamuDe00 ,\n",
            "\tYards/Game Above Expected:  58.633488019435106\n",
            "Name:  Ja'Marr Chase*\\ChasJa00 ,\n",
            "\tYards/Game Above Expected:  56.40236658861855\n",
            "Name:  Mark Andrews*+\\AndrMa00 ,\n",
            "\tYards/Game Above Expected:  51.11022348434744\n",
            "Name:  Chris Godwin\\GodwCh00 ,\n",
            "\tYards/Game Above Expected:  48.80148940109167\n",
            "Name:  Tee Higgins\\HiggTe00 ,\n",
            "\tYards/Game Above Expected:  48.70236658861856\n",
            "Name:  Diontae Johnson*\\JohnDi01 ,\n",
            "\tYards/Game Above Expected:  44.167839579620164\n",
            "Name:  Tyler Lockett\\LockTy00 ,\n",
            "\tYards/Game Above Expected:  44.1281319830011\n",
            "Name:  Tyreek Hill*\\HillTy00 ,\n",
            "\tYards/Game Above Expected:  43.18786366814675\n",
            "Name:  Stefon Diggs*\\DiggSt00 ,\n",
            "\tYards/Game Above Expected:  42.46067068519463\n",
            "Name:  Mike Williams\\WillMi07 ,\n",
            "\tYards/Game Above Expected:  41.722834429504836\n",
            "Name:  Keenan Allen*\\AlleKe00 ,\n",
            "\tYards/Game Above Expected:  41.222834429504836\n",
            "Name:  Travis Kelce*\\KelcTr00 ,\n",
            "\tYards/Game Above Expected:  40.58786366814674\n",
            "Name:  D.J. Moore\\MoorD.00 ,\n",
            "\tYards/Game Above Expected:  39.94507727983\n",
            "Name:  CeeDee Lamb*\\LambCe00 ,\n",
            "\tYards/Game Above Expected:  39.593298821903666\n",
            "Name:  A.J. Brown\\BrowAJ00 ,\n",
            "\tYards/Game Above Expected:  37.39365313974791\n",
            "Name:  Rob Gronkowski\\GronRo00 ,\n",
            "\tYards/Game Above Expected:  36.80148940109167\n",
            "Name:  Brandin Cooks\\CookBr00 ,\n",
            "\tYards/Game Above Expected:  36.2998863637088\n",
            "Name:  George Kittle*\\KittGe00 ,\n",
            "\tYards/Game Above Expected:  35.83348801943511\n",
            "Name:  Mike Evans*\\EvanMi00 ,\n",
            "\tYards/Game Above Expected:  34.70148940109168\n",
            "Name:  Jaylen Waddle\\WaddJa00 ,\n",
            "\tYards/Game Above Expected:  34.31600263875605\n",
            "Name:  Michael Pittman Jr.\\PittMi01 ,\n",
            "\tYards/Game Above Expected:  34.25189875338623\n",
            "Name:  Marquise Brown\\BrowMa04 ,\n",
            "\tYards/Game Above Expected:  34.01022348434745\n",
            "Name:  Darnell Mooney\\MoonDa00 ,\n",
            "\tYards/Game Above Expected:  33.947361421541316\n",
            "Name:  Terry McLaurin\\McLaTe00 ,\n",
            "\tYards/Game Above Expected:  33.3784725351653\n",
            "Name:  Robert Woods\\WoodRo02 ,\n",
            "\tYards/Game Above Expected:  32.01020284996231\n",
            "Name:  Hunter Renfrow*\\RenfHu00 ,\n",
            "\tYards/Game Above Expected:  31.863536179526342\n",
            "Name:  Kyle Pitts*\\PittKy00 ,\n",
            "\tYards/Game Above Expected:  31.46932565112751\n",
            "Name:  Darren Waller\\WallDa01 ,\n",
            "\tYards/Game Above Expected:  31.26353617952634\n",
            "Name:  Chase Claypool\\ClayCh01 ,\n",
            "\tYards/Game Above Expected:  28.86783957962017\n",
            "Name:  Amari Cooper\\CoopAm00 ,\n",
            "\tYards/Game Above Expected:  28.393298821903663\n",
            "Name:  Christian Kirk\\KirkCh01 ,\n",
            "\tYards/Game Above Expected:  28.349683411805255\n",
            "Name:  DeAndre Hopkins\\HopkDe00 ,\n",
            "\tYards/Game Above Expected:  27.74968341180526\n",
            "Name:  D.K. Metcalf\\MetcDK00 ,\n",
            "\tYards/Game Above Expected:  27.628131983001087\n",
            "Name:  Calvin Ridley\\RidlCa00 ,\n",
            "\tYards/Game Above Expected:  27.269325651127513\n",
            "Name:  Adam Thielen\\ThieAd00 ,\n",
            "\tYards/Game Above Expected:  26.622067310878567\n",
            "Name:  Corey Davis\\DaviCo03 ,\n",
            "\tYards/Game Above Expected:  26.403460493729007\n",
            "Name:  Dallas Goedert\\GoedDa00 ,\n",
            "\tYards/Game Above Expected:  26.183739137083844\n",
            "Name:  Russell Gage\\GageRu00 ,\n",
            "\tYards/Game Above Expected:  26.06932565112751\n",
            "Name:  Amon-Ra St. Brown\\StxxAm00 ,\n",
            "\tYards/Game Above Expected:  25.101884987706196\n",
            "Name:  DeVonta Smith\\SmitDe07 ,\n",
            "\tYards/Game Above Expected:  24.783739137083845\n",
            "Name:  Sterling Shepard\\ShepSt00 ,\n",
            "\tYards/Game Above Expected:  24.07969372334386\n",
            "Name:  A.J. Green\\GreeA.00 ,\n",
            "\tYards/Game Above Expected:  23.54968341180526\n",
            "Name:  Tyler Boyd\\BoydTy00 ,\n",
            "\tYards/Game Above Expected:  22.602366588618548\n",
            "Name:  DeVante Parker\\ParkDe01 ,\n",
            "\tYards/Game Above Expected:  22.416002638756055\n",
            "Name:  Jakobi Meyers\\MeyeJa01 ,\n",
            "\tYards/Game Above Expected:  21.736343196574236\n",
            "Name:  Elijah Moore\\MoorEl00 ,\n",
            "\tYards/Game Above Expected:  20.603460493729003\n",
            "Name:  Marvin Jones\\JoneMa02 ,\n",
            "\tYards/Game Above Expected:  20.580904594329848\n",
            "\n",
            "Bottom 50 Receivers in Yards/Game above Expected: \n",
            " \n",
            "Name:  Darrell Daniels\\DaniDa02 ,\n",
            "\tYards/Game Above Expected:  -29.45031658819474\n",
            "Name:  Daniel Helm\\HelmDa01 ,\n",
            "\tYards/Game Above Expected:  -29.33646382047366\n",
            "Name:  Demetrius Harris\\HarrDe03 ,\n",
            "\tYards/Game Above Expected:  -28.750316588194742\n",
            "Name:  Stanley Morgan Jr.\\MorgSt02 ,\n",
            "\tYards/Game Above Expected:  -28.597633411381448\n",
            "Name:  Eric Tomlinson\\TomlEr01 ,\n",
            "\tYards/Game Above Expected:  -28.589776515652552\n",
            "Name:  Nick Boyle\\BoylNi00 ,\n",
            "\tYards/Game Above Expected:  -28.589776515652552\n",
            "Name:  Mitchell Wilcox\\WilcMi01 ,\n",
            "\tYards/Game Above Expected:  -28.097633411381448\n",
            "Name:  Cethan Carter\\CartCe00 ,\n",
            "\tYards/Game Above Expected:  -28.083997361243945\n",
            "Name:  Hunter Long\\LongHu00 ,\n",
            "\tYards/Game Above Expected:  -27.983997361243944\n",
            "Name:  Jake Kumerow\\KumeJa00 ,\n",
            "\tYards/Game Above Expected:  -27.739329314805364\n",
            "Name:  Jack Stoll\\StolJa00 ,\n",
            "\tYards/Game Above Expected:  -27.716260862916155\n",
            "Name:  Tylan Wallace\\WallTy00 ,\n",
            "\tYards/Game Above Expected:  -27.589776515652552\n",
            "Name:  Jeremy Sprinkle\\SpriJe00 ,\n",
            "\tYards/Game Above Expected:  -27.50670117809634\n",
            "Name:  Noah Gray\\GrayNo00 ,\n",
            "\tYards/Game Above Expected:  -27.412136331853258\n",
            "Name:  Amari Rodgers\\RodgAm00 ,\n",
            "\tYards/Game Above Expected:  -27.139408432128263\n",
            "Name:  Kevin Rader\\RadeKe00 ,\n",
            "\tYards/Game Above Expected:  -27.132160420379826\n",
            "Name:  Josh Gordon\\GordJo02 ,\n",
            "\tYards/Game Above Expected:  -27.01213633185326\n",
            "Name:  Colby Parkinson\\ParkCo02 ,\n",
            "\tYards/Game Above Expected:  -26.871868016998913\n",
            "Name:  JJ Arcega-Whiteside\\ArceJJ00 ,\n",
            "\tYards/Game Above Expected:  -26.816260862916153\n",
            "Name:  Tyree Jackson\\JackTy01 ,\n",
            "\tYards/Game Above Expected:  -26.716260862916155\n",
            "Name:  Chris Herndon\\HernCh00 ,\n",
            "\tYards/Game Above Expected:  -26.67793268912143\n",
            "Name:  Derek Carrier\\CarrDe00 ,\n",
            "\tYards/Game Above Expected:  -26.636463820473658\n",
            "Name:  Dominique Dafney\\DafnDo00 ,\n",
            "\tYards/Game Above Expected:  -26.539408432128266\n",
            "Name:  Garrett Griffin\\GrifGa00 ,\n",
            "\tYards/Game Above Expected:  -26.484007678436512\n",
            "Name:  Greg Dortch\\DortGr01 ,\n",
            "\tYards/Game Above Expected:  -26.45031658819474\n",
            "Name:  Kendall Blanton\\BlanKe01 ,\n",
            "\tYards/Game Above Expected:  -26.389797150037683\n",
            "Name:  Sean McKeon\\McKeSe01 ,\n",
            "\tYards/Game Above Expected:  -26.30670117809634\n",
            "Name:  Tommy Sweeney\\SweeTo00 ,\n",
            "\tYards/Game Above Expected:  -26.239329314805364\n",
            "Name:  Ross Dwelley\\DwelRo00 ,\n",
            "\tYards/Game Above Expected:  -26.166511980564895\n",
            "Name:  Chris Myarick\\MyarCh00 ,\n",
            "\tYards/Game Above Expected:  -26.120306276656137\n",
            "Name:  Charlie Woerner\\WoerCh00 ,\n",
            "\tYards/Game Above Expected:  -26.066511980564893\n",
            "Name:  Eric Saubert\\SaubEr00 ,\n",
            "\tYards/Game Above Expected:  -25.98820100962974\n",
            "Name:  Tre' McKitty\\McKiTr00 ,\n",
            "\tYards/Game Above Expected:  -25.777165570495157\n",
            "Name:  Antony Auclair\\AuclAn00 ,\n",
            "\tYards/Game Above Expected:  -25.600113636291198\n",
            "Name:  Ethan Wolf\\WolfEt00 ,\n",
            "\tYards/Game Above Expected:  -25.484007678436512\n",
            "Name:  Trevon Wesco\\WescTr00 ,\n",
            "\tYards/Game Above Expected:  -25.396539506270997\n",
            "Name:  Mike Thomas\\ThomMi04 ,\n",
            "\tYards/Game Above Expected:  -24.89763341138145\n",
            "Name:  Luke Farrell\\FarrLu00 ,\n",
            "\tYards/Game Above Expected:  -24.61909540567015\n",
            "Name:  Drew Sample\\SampDr00 ,\n",
            "\tYards/Game Above Expected:  -24.39763341138145\n",
            "Name:  Blake Bell\\BellBl00 ,\n",
            "\tYards/Game Above Expected:  -24.31213633185326\n",
            "Name:  Josh Oliver\\OlivJo00 ,\n",
            "\tYards/Game Above Expected:  -24.28977651565255\n",
            "Name:  Kenny Stills\\StilKe00 ,\n",
            "\tYards/Game Above Expected:  -24.284007678436513\n",
            "Name:  Chris Manhertz\\ManhCh00 ,\n",
            "\tYards/Game Above Expected:  -24.11909540567015\n",
            "Name:  Trent Sherfield\\SherTr00 ,\n",
            "\tYards/Game Above Expected:  -24.066511980564897\n",
            "Name:  David Sills\\SillDa01 ,\n",
            "\tYards/Game Above Expected:  -23.920306276656138\n",
            "Name:  Jesse James\\JameJe00 ,\n",
            "\tYards/Game Above Expected:  -23.75263857845868\n",
            "Name:  Parker Hesse\\HessPa00 ,\n",
            "\tYards/Game Above Expected:  -23.530674348872488\n",
            "Name:  Kevin White\\WhitKe00 ,\n",
            "\tYards/Game Above Expected:  -23.18400767843651\n",
            "Name:  Curtis Samuel\\SamuCu00 ,\n",
            "\tYards/Game Above Expected:  -23.1215274648347\n",
            "Name:  Ty Montgomery\\MontTy01 ,\n",
            "\tYards/Game Above Expected:  -22.68400767843651\n"
          ]
        }
      ]
    },
    {
      "cell_type": "markdown",
      "source": [
        "# Evaluating our Models"
      ],
      "metadata": {
        "id": "KJGtbHSPWqLO"
      }
    },
    {
      "cell_type": "markdown",
      "source": [
        "To evaluate the significance of our models, we will be performing a [F-test](https://en.wikipedia.org/wiki/F-test) with α ([level of significance](https://statisticsbyjim.com/glossary/significance-level/#:~:text=The%20significance%20level%2C%20also%20known,level%20before%20conducting%20the%20experiment.)) = 0.05. Additionally, we will look at our coefficient of determination (r^2) to determine the goodness of fit of our regression lines."
      ],
      "metadata": {
        "id": "ua89vyy3XMVy"
      }
    },
    {
      "cell_type": "code",
      "source": [
        "# r^2\n",
        "r2_model1 = fit1.score(reg_x, reg_y)\n",
        "r2_model2 = fit2.score(reg_x, reg_y2)\n",
        "\n",
        "print(\"Coefficient of Determination (r^2) for Model 1:\", r2_model1)\n",
        "print(\"Coefficient of Determination (r^2) for Model 2:\", r2_model2)"
      ],
      "metadata": {
        "colab": {
          "base_uri": "https://localhost:8080/"
        },
        "id": "E73x_wuKYB7S",
        "outputId": "6b1f448d-0616-43ba-a1cc-6223b802b3f2"
      },
      "execution_count": 129,
      "outputs": [
        {
          "output_type": "stream",
          "name": "stdout",
          "text": [
            "Coefficient of Determination (r^2) for Model 1: 0.4768723115651343\n",
            "Coefficient of Determination (r^2) for Model 2: 0.008236479705757027\n"
          ]
        }
      ]
    },
    {
      "cell_type": "markdown",
      "source": [
        "As r^2 is below 0.5 for both models, the regression line does not fit the data all too well. This may be due to limitations in our data set being small."
      ],
      "metadata": {
        "id": "XNcZiB55beJm"
      }
    },
    {
      "cell_type": "code",
      "source": [
        "# F test\n",
        "from sklearn.feature_selection import f_regression\n",
        "\n",
        "f1 = f_regression(reg_x, reg_y.ravel())\n",
        "f2 = f_regression(reg_x, reg_y2.ravel())\n",
        "print(\"Model 1 F:\", f1[0][0], \"Model 1 p-value: \", f1[1][0])\n",
        "print(\"Model 2 F:\", f2[0][0], \"Model 2 p-value: \", f2[1][0])\n"
      ],
      "metadata": {
        "colab": {
          "base_uri": "https://localhost:8080/"
        },
        "id": "jS_8FMaiZC2U",
        "outputId": "10db1616-7b40-4e3e-f4ef-6c72d81aae37"
      },
      "execution_count": 136,
      "outputs": [
        {
          "output_type": "stream",
          "name": "stdout",
          "text": [
            "Model 1 F: 27.34737553226512 Model 1 p-value:  1.2185020017884797e-05\n",
            "Model 2 F: 0.24914648110813012 Model 2 p-value:  0.6213174845108813\n"
          ]
        }
      ]
    },
    {
      "cell_type": "markdown",
      "source": [
        "Our first model is statistically significant as p < 0.05, so we reject the null. We have sufficient evidence to conclude it is statistically significant. Our second model, p > 0.05, so we fail to reject the null. This may once again be due to the limitations of our data set size being small."
      ],
      "metadata": {
        "id": "tBGdKz02bpTB"
      }
    },
    {
      "cell_type": "markdown",
      "source": [
        "# Conclusion"
      ],
      "metadata": {
        "id": "S9QoWePJb5EG"
      }
    },
    {
      "cell_type": "markdown",
      "source": [
        "A lot goes on in a NFL season, and with loads of players, it's hard to keep track of whose performance is or is not up to snuff. I hope that through this analysis, you learned about the NFL and its players, and who performed well and who didn't!"
      ],
      "metadata": {
        "id": "f11F2nkzb673"
      }
    }
  ]
}